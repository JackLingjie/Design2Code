{
 "cells": [
  {
   "cell_type": "code",
   "execution_count": 10,
   "metadata": {},
   "outputs": [
    {
     "name": "stdout",
     "output_type": "stream",
     "text": [
      "90291\n"
     ]
    }
   ],
   "source": [
    "import json\n",
    "output_file_filter = \"/mnt/lingjiejiang/multimodal_code/data/Web2Code/Web2Code_onetrun_with_img.json\"\n",
    "with open(output_file_filter, \"r\") as f:\n",
    "    data = json.load(f)\n",
    "    print(len(data))"
   ]
  },
  {
   "cell_type": "code",
   "execution_count": 11,
   "metadata": {},
   "outputs": [
    {
     "data": {
      "text/plain": [
       "[{'id': '2008',\n",
       "  'messages': [{'content': '<image>\\nAfter scrutinizing the webpage screenshot provided, craft HTML code for a similar responsive layout. Present the script that reflects the spirit of the material design system.',\n",
       "    'role': 'user'},\n",
       "   {'content': '<!DOCTYPE html>\\n<html>\\n<head>\\n <title>Artist Portfolio</title>\\n <meta charset=\"UTF-8\">\\n <meta name=\"viewport\" content=\"width=device-width, initial-scale=1.0\">\\n <style>\\n  body {\\n font-family: \\'Montserrat\\', sans-serif;\\n background-color: #858585;\\n }\\n header {\\n background-color: #ffd180;\\n color: #fff;\\n padding: 20px;\\n text-align: center;\\n }\\n #bio {\\n width: 80%;\\n margin: 0 auto;\\n padding: 20px;\\n background-color: #fff;\\n border-radius: 5px;\\n box-shadow: 0 2px 5px rgba(0,0,0,0.1);\\n }\\n #gallery {\\n display: flex;\\n flex-wrap: wrap;\\n justify-content: center;\\n }\\n .artwork {\\n width: 200px;\\n margin: 20px;\\n border-radius: 5px;\\n box-shadow: 0 2px 5px rgba(0,0,0,0.1);\\n }\\n .artwork img {\\n width: 100%;\\n border-radius: 5px 5px 0 0;\\n }\\n .artwork h3 {\\n background: #fff;\\n padding: 10px;\\n text-align: center;\\n border-radius: 0 0 5px 5px;\\n margin-top: -10px;\\n }\\n </style>\\n</head>\\n<body>\\n <header>\\n <h1>Jessica\\'s Portfolio</h1>\\n </header>\\n <div id=\"bio\">\\n <h2>About the Artist</h2>\\n <p>Jessica is a London-based artist specializing in oil paintings and digital art.</p>\\n </div>\\n <div id=\"gallery\">\\n <div class=\"artwork\">\\n <img src=\"oilpainting.jpg\" alt=\"Oil Painting\">\\n <h3>The Awakening</h3>\\n </div>\\n <div class=\"artwork\">\\n <img src=\"digitalart.jpg\" alt=\"Digital Art\">\\n <h3>Space Odyssey</h3>\\n </div>\\n <div class=\"artwork\">\\n <img src=\"oilpainting2.jpg\" alt=\"Oil Painting\">\\n <h3>New Beginnings</h3>\\n </div>\\n </div>\\n</body>\\n</html>',\n",
       "    'role': 'assistant'}],\n",
       "  'images': ['/mnt/lingjiejiang/multimodal_code/data/Web2Code/new_data/2008.png']},\n",
       " {'id': '9523',\n",
       "  'messages': [{'content': '<image>\\nGiven the image of a website design, can you devise the HTML to reproduce its structure? Discuss code maintaining consistency with material design.',\n",
       "    'role': 'user'},\n",
       "   {'content': '<!DOCTYPE html>\\n<html>\\n<head>\\n <title>New Game Launch</title>\\n <link rel=\"stylesheet\" type=\"text/css\" href=\"css/styles.css\">\\n</head>\\n<body>\\n <header>\\n <h1>New Game Launch!</h1>\\n <nav>\\n <a href=\"#\">Features</a>\\n <a href=\"#\">Screenshots</a>\\n <a href=\"#\">Purchase</a>\\n </nav>\\n </header>\\n <div class=\"features\">\\n <h2>Experience the World of <span class=\"game-name\">Aurascape</span></h2>\\n <p>Discover a vast open world and immerse yourself in endless adventure.</p>\\n <div class=\"details\">\\n <img src=\"img/logo.png\" alt=\"Aurascape logo\">\\n <h3>Character Customization</h3>\\n <p>Tailor your character\\'s appearance and abilities to suit your playstyle.</p>\\n </div>\\n <div class=\"details\">\\n <img src=\"img/mech-battle.jpg\" alt=\"Mech battles\">\\n <h3>Intense Mech Battles</h3>\\n <p>Utilize powerful mechs to engage in epic battles against your enemies.</p>\\n </div>\\n <div class=\"details\">\\n <img src=\"img/quests.jpg\" alt=\"Quests\">\\n <h3>Endless Side Quests</h3>\\n <p>Embark on numerous side quests and explore a world filled with secrets.</p>\\n </div>\\n <div class=\"details\">\\n <img src=\"img/branching-storyline.jpg\" alt=\"Branching storyline\">\\n <h3>Branching Storyline</h3>\\n <p>Your choices will impact the outcome of the story, creating a unique gaming experience.</p>\\n </div>\\n </div>\\n <div class=\"screenshots\">\\n <h2>Featured Screenshots</h2>\\n <img src=\"img/screenshot-1.jpg\" alt=\"screenshot 1\">\\n <img src=\"img/screenshot-2.jpg\" alt=\"screenshot 2\">\\n <img src=\"img/screenshot-3.jpg\" alt=\"screenshot 3\">\\n </div>\\n <div class=\"purchase\">\\n <h2>Get in the Game!</h2>\\n <p>Available now for just $29.99</p>\\n </div>\\n</body>\\n</html>',\n",
       "    'role': 'assistant'}],\n",
       "  'images': ['/mnt/lingjiejiang/multimodal_code/data/Web2Code/new_data/9523.png']}]"
      ]
     },
     "execution_count": 11,
     "metadata": {},
     "output_type": "execute_result"
    }
   ],
   "source": [
    "data[:2]"
   ]
  },
  {
   "cell_type": "code",
   "execution_count": 14,
   "metadata": {},
   "outputs": [
    {
     "name": "stdout",
     "output_type": "stream",
     "text": [
      "90291\n"
     ]
    }
   ],
   "source": [
    "with open(\"/mnt/lingjiejiang/multimodal_code/data/Web2Code/Web2Code_onetrun_with_img_newimg.json\", \"r\") as f:\n",
    "    data_new = json.load(f)\n",
    "    print(len(data_new))"
   ]
  },
  {
   "cell_type": "code",
   "execution_count": 15,
   "metadata": {},
   "outputs": [
    {
     "data": {
      "text/plain": [
       "[{'id': '2008',\n",
       "  'messages': [{'content': '<image>\\nAfter scrutinizing the webpage screenshot provided, craft HTML code for a similar responsive layout. Present the script that reflects the spirit of the material design system.',\n",
       "    'role': 'user'},\n",
       "   {'content': '<!DOCTYPE html>\\n<html>\\n<head>\\n <title>Artist Portfolio</title>\\n <meta charset=\"UTF-8\">\\n <meta name=\"viewport\" content=\"width=device-width, initial-scale=1.0\">\\n <style>\\n  body {\\n font-family: \\'Montserrat\\', sans-serif;\\n background-color: #858585;\\n }\\n header {\\n background-color: #ffd180;\\n color: #fff;\\n padding: 20px;\\n text-align: center;\\n }\\n #bio {\\n width: 80%;\\n margin: 0 auto;\\n padding: 20px;\\n background-color: #fff;\\n border-radius: 5px;\\n box-shadow: 0 2px 5px rgba(0,0,0,0.1);\\n }\\n #gallery {\\n display: flex;\\n flex-wrap: wrap;\\n justify-content: center;\\n }\\n .artwork {\\n width: 200px;\\n margin: 20px;\\n border-radius: 5px;\\n box-shadow: 0 2px 5px rgba(0,0,0,0.1);\\n }\\n .artwork img {\\n width: 100%;\\n border-radius: 5px 5px 0 0;\\n }\\n .artwork h3 {\\n background: #fff;\\n padding: 10px;\\n text-align: center;\\n border-radius: 0 0 5px 5px;\\n margin-top: -10px;\\n }\\n </style>\\n</head>\\n<body>\\n <header>\\n <h1>Jessica\\'s Portfolio</h1>\\n </header>\\n <div id=\"bio\">\\n <h2>About the Artist</h2>\\n <p>Jessica is a London-based artist specializing in oil paintings and digital art.</p>\\n </div>\\n <div id=\"gallery\">\\n <div class=\"artwork\">\\n <img src=\"oilpainting.jpg\" alt=\"Oil Painting\">\\n <h3>The Awakening</h3>\\n </div>\\n <div class=\"artwork\">\\n <img src=\"digitalart.jpg\" alt=\"Digital Art\">\\n <h3>Space Odyssey</h3>\\n </div>\\n <div class=\"artwork\">\\n <img src=\"oilpainting2.jpg\" alt=\"Oil Painting\">\\n <h3>New Beginnings</h3>\\n </div>\\n </div>\\n</body>\\n</html>',\n",
       "    'role': 'assistant'}],\n",
       "  'images': '/mnt/lingjiejiang/multimodal_code/data/web2code_new_images/new_data/2008.png'},\n",
       " {'id': '9523',\n",
       "  'messages': [{'content': '<image>\\nGiven the image of a website design, can you devise the HTML to reproduce its structure? Discuss code maintaining consistency with material design.',\n",
       "    'role': 'user'},\n",
       "   {'content': '<!DOCTYPE html>\\n<html>\\n<head>\\n <title>New Game Launch</title>\\n <link rel=\"stylesheet\" type=\"text/css\" href=\"css/styles.css\">\\n</head>\\n<body>\\n <header>\\n <h1>New Game Launch!</h1>\\n <nav>\\n <a href=\"#\">Features</a>\\n <a href=\"#\">Screenshots</a>\\n <a href=\"#\">Purchase</a>\\n </nav>\\n </header>\\n <div class=\"features\">\\n <h2>Experience the World of <span class=\"game-name\">Aurascape</span></h2>\\n <p>Discover a vast open world and immerse yourself in endless adventure.</p>\\n <div class=\"details\">\\n <img src=\"img/logo.png\" alt=\"Aurascape logo\">\\n <h3>Character Customization</h3>\\n <p>Tailor your character\\'s appearance and abilities to suit your playstyle.</p>\\n </div>\\n <div class=\"details\">\\n <img src=\"img/mech-battle.jpg\" alt=\"Mech battles\">\\n <h3>Intense Mech Battles</h3>\\n <p>Utilize powerful mechs to engage in epic battles against your enemies.</p>\\n </div>\\n <div class=\"details\">\\n <img src=\"img/quests.jpg\" alt=\"Quests\">\\n <h3>Endless Side Quests</h3>\\n <p>Embark on numerous side quests and explore a world filled with secrets.</p>\\n </div>\\n <div class=\"details\">\\n <img src=\"img/branching-storyline.jpg\" alt=\"Branching storyline\">\\n <h3>Branching Storyline</h3>\\n <p>Your choices will impact the outcome of the story, creating a unique gaming experience.</p>\\n </div>\\n </div>\\n <div class=\"screenshots\">\\n <h2>Featured Screenshots</h2>\\n <img src=\"img/screenshot-1.jpg\" alt=\"screenshot 1\">\\n <img src=\"img/screenshot-2.jpg\" alt=\"screenshot 2\">\\n <img src=\"img/screenshot-3.jpg\" alt=\"screenshot 3\">\\n </div>\\n <div class=\"purchase\">\\n <h2>Get in the Game!</h2>\\n <p>Available now for just $29.99</p>\\n </div>\\n</body>\\n</html>',\n",
       "    'role': 'assistant'}],\n",
       "  'images': '/mnt/lingjiejiang/multimodal_code/data/web2code_new_images/new_data/9523.png'}]"
      ]
     },
     "execution_count": 15,
     "metadata": {},
     "output_type": "execute_result"
    }
   ],
   "source": [
    "data_new[:2]"
   ]
  },
  {
   "cell_type": "code",
   "execution_count": 16,
   "metadata": {},
   "outputs": [],
   "source": [
    "import os\n",
    "import json\n",
    "output_file_filter = \"/mnt/lingjiejiang/multimodal_code/data/Web2Code/Web2Code_onetrun_with_img.json\"\n",
    "with open(output_file_filter, \"r\") as f:\n",
    "    img_data = json.load(f)\n",
    "len(img_data)\n",
    "for item in img_data:\n",
    "    item[\"images\"] = [os.path.join(\n",
    "        '/mnt/lingjiejiang/multimodal_code/data/web2code_new_images',\n",
    "        os.path.relpath(item[\"images\"][0], '/mnt/lingjiejiang/multimodal_code/data/Web2Code')\n",
    "    )]\n",
    "output_path = \"/mnt/lingjiejiang/multimodal_code/data/Web2Code/Web2Code_onetrun_with_img_newimg.json\"\n",
    "with open(output_path, \"w\") as f:\n",
    "    json.dump(img_data, f)"
   ]
  },
  {
   "cell_type": "code",
   "execution_count": 20,
   "metadata": {},
   "outputs": [
    {
     "name": "stdout",
     "output_type": "stream",
     "text": [
      "Data split 0 has 30097 items\n",
      "Data split 0 saved to /mnt/lingjiejiang/multimodal_code/data/Web2Code/Web2Code_onetrun_with_img_newimg_split0.json\n",
      "Data split 1 has 30097 items\n",
      "Data split 1 saved to /mnt/lingjiejiang/multimodal_code/data/Web2Code/Web2Code_onetrun_with_img_newimg_split1.json\n",
      "Data split 2 has 30097 items\n",
      "Data split 2 saved to /mnt/lingjiejiang/multimodal_code/data/Web2Code/Web2Code_onetrun_with_img_newimg_split2.json\n"
     ]
    }
   ],
   "source": [
    "input_path = \"/mnt/lingjiejiang/multimodal_code/data/Web2Code/Web2Code_onetrun_with_img_newimg.json\"\n",
    "output_base_path = '/mnt/lingjiejiang/multimodal_code/data/Web2Code/Web2Code_onetrun_with_img_newimg_split'  \n",
    "  \n",
    "# 读取数据  \n",
    "with open(input_path, 'r') as f:  \n",
    "    img_data = json.load(f)  \n",
    "  \n",
    "# 确定切割点  \n",
    "total_length = len(img_data)  \n",
    "split_size = total_length // 3  \n",
    "  \n",
    "# 切割数据并存储  \n",
    "for i in range(3):  \n",
    "    # 计算每一份的起始和结束索引  \n",
    "    start_idx = i * split_size  \n",
    "    # 对于最后一份，确保包括所有剩余元素  \n",
    "    end_idx = (i + 1) * split_size if i < 2 else total_length  \n",
    "      \n",
    "    # 获取切割后的数据  \n",
    "    split_data = img_data[start_idx:end_idx]  \n",
    "    print(f'Data split {i} has {len(split_data)} items')\n",
    "    # 存储到指定路径  \n",
    "    output_path = f'{output_base_path}{i}.json'  \n",
    "    with open(output_path, 'w') as out_file:  \n",
    "        json.dump(split_data, out_file, indent=0)  \n",
    "  \n",
    "    print(f'Data split {i} saved to {output_path}') "
   ]
  },
  {
   "cell_type": "code",
   "execution_count": 3,
   "metadata": {},
   "outputs": [],
   "source": [
    "from gpt4o import Openai, API_INFOS\n",
    "client = Openai(API_INFOS)\n",
    "response, stop_reason = client.get_raw_response(\"Hello, how are you?\", max_tokens=200)"
   ]
  },
  {
   "cell_type": "code",
   "execution_count": 12,
   "metadata": {},
   "outputs": [
    {
     "name": "stdout",
     "output_type": "stream",
     "text": [
      "10\n"
     ]
    }
   ],
   "source": [
    "import json\n",
    "with open(\"/mnt/lingjiejiang/multimodal_code/data/html_revised/final_output.json\", \"r\") as f:\n",
    "    data = json.load(f)\n",
    "    print(len(data))"
   ]
  },
  {
   "cell_type": "code",
   "execution_count": 13,
   "metadata": {},
   "outputs": [
    {
     "data": {
      "text/plain": [
       "[{'id': '6585',\n",
       "  'messages': [{'content': '<image>\\nPlease design a responsive webpage with HTML according to the structure seen in the screenshot. Explore code which stands for the principles of material design.',\n",
       "    'role': 'user'},\n",
       "   {'content': '<!DOCTYPE html>\\n<html>\\n<head>\\n <title>Food Delivery Service</title>\\n <meta name=\"viewport\" content=\"width=device-width, initial-scale=1.0\">\\n <style>\\n  body {\\n font-family: \\'Sans-Serif\\', sans-serif;\\n background-color: #e6e6e6;\\n text-align: center;\\n }\\n .restaurant {\\n margin: 20px 0;\\n border: 1px solid black;\\n background-color: #ffffff;\\n }\\n p {\\n color: #cc3333;\\n }\\n </style>\\n</head>\\n<body>\\n <h1>Welcome to Our Food Delivery Service</h1>\\n <div class=\"restaurant\">\\n <h2>Placeholder Chinese Restaurant</h2>\\n <img src=\"/path/to/restaurant.jpg\" alt=\"Restaurant Image\">\\n <p>Delivery available within 5km radius.</p>\\n <a href=\"https://www.instagram.com/chineserestaurant\" target=\"_blank\">Follow us on Instagram!</a>\\n </div>\\n</body>\\n</html>',\n",
       "    'role': 'assistant'}],\n",
       "  'images': ['/mnt/lingjiejiang/multimodal_code/data/Web2Code/new_data/6585.png'],\n",
       "  'revised_html': '<!DOCTYPE html>\\n<html lang=\"en\">\\n<head>\\n    <meta charset=\"UTF-8\">\\n    <meta name=\"viewport\" content=\"width=device-width, initial-scale=1.0\">\\n    <title>Food Delivery Service</title>\\n    <style>\\n        body {\\n            margin: 0;\\n            font-family: Arial, sans-serif;\\n            background-color: #e0e0e0;\\n            text-align: center;\\n        }\\n        header {\\n            background-color: #d3d3d3;\\n            padding: 20px 0;\\n            font-size: 24px;\\n            font-weight: bold;\\n        }\\n        .content {\\n            background-color: white;\\n            margin: 20px auto;\\n            padding: 20px;\\n            width: 80%;\\n            max-width: 800px;\\n            border: 1px solid #000;\\n        }\\n        .restaurant-name {\\n            font-size: 20px;\\n            font-weight: bold;\\n            margin-bottom: 10px;\\n        }\\n        .restaurant-image {\\n            width: 100px;\\n            height: auto;\\n            margin: 10px 0;\\n        }\\n        .delivery-info {\\n            color: red;\\n            margin: 10px 0;\\n        }\\n        .instagram-link {\\n            color: blue;\\n            text-decoration: none;\\n        }\\n    </style>\\n</head>\\n<body>\\n    <header>\\n        Welcome to Our Food Delivery Service\\n    </header>\\n    <div class=\"content\">\\n        <div class=\"restaurant-name\">Placeholder Chinese Restaurant</div>\\n        <img src=\"rick.jpg\" alt=\"Restaurant Image\" class=\"restaurant-image\">\\n        <div class=\"delivery-info\">Delivery available within 5km radius.</div>\\n        <a href=\"#\" class=\"instagram-link\">Follow us on Instagram!</a>\\n    </div>\\n</body>\\n</html>',\n",
       "  'original_html': '<!DOCTYPE html>\\n<html>\\n<head>\\n <title>Food Delivery Service</title>\\n <meta name=\"viewport\" content=\"width=device-width, initial-scale=1.0\">\\n <style>\\n  body {\\n font-family: \\'Sans-Serif\\', sans-serif;\\n background-color: #e6e6e6;\\n text-align: center;\\n }\\n .restaurant {\\n margin: 20px 0;\\n border: 1px solid black;\\n background-color: #ffffff;\\n }\\n p {\\n color: #cc3333;\\n }\\n </style>\\n</head>\\n<body>\\n <h1>Welcome to Our Food Delivery Service</h1>\\n <div class=\"restaurant\">\\n <h2>Placeholder Chinese Restaurant</h2>\\n <img src=\"/path/to/restaurant.jpg\" alt=\"Restaurant Image\">\\n <p>Delivery available within 5km radius.</p>\\n <a href=\"https://www.instagram.com/chineserestaurant\" target=\"_blank\">Follow us on Instagram!</a>\\n </div>\\n</body>\\n</html>',\n",
       "  'gpt_answer': '```html\\n<!DOCTYPE html>\\n<html lang=\"en\">\\n<head>\\n    <meta charset=\"UTF-8\">\\n    <meta name=\"viewport\" content=\"width=device-width, initial-scale=1.0\">\\n    <title>Food Delivery Service</title>\\n    <style>\\n        body {\\n            margin: 0;\\n            font-family: Arial, sans-serif;\\n            background-color: #e0e0e0;\\n            text-align: center;\\n        }\\n        header {\\n            background-color: #d3d3d3;\\n            padding: 20px 0;\\n            font-size: 24px;\\n            font-weight: bold;\\n        }\\n        .content {\\n            background-color: white;\\n            margin: 20px auto;\\n            padding: 20px;\\n            width: 80%;\\n            max-width: 800px;\\n            border: 1px solid #000;\\n        }\\n        .restaurant-name {\\n            font-size: 20px;\\n            font-weight: bold;\\n            margin-bottom: 10px;\\n        }\\n        .restaurant-image {\\n            width: 100px;\\n            height: auto;\\n            margin: 10px 0;\\n        }\\n        .delivery-info {\\n            color: red;\\n            margin: 10px 0;\\n        }\\n        .instagram-link {\\n            color: blue;\\n            text-decoration: none;\\n        }\\n    </style>\\n</head>\\n<body>\\n    <header>\\n        Welcome to Our Food Delivery Service\\n    </header>\\n    <div class=\"content\">\\n        <div class=\"restaurant-name\">Placeholder Chinese Restaurant</div>\\n        <img src=\"rick.jpg\" alt=\"Restaurant Image\" class=\"restaurant-image\">\\n        <div class=\"delivery-info\">Delivery available within 5km radius.</div>\\n        <a href=\"#\" class=\"instagram-link\">Follow us on Instagram!</a>\\n    </div>\\n</body>\\n</html>\\n```\\n\\nThis HTML and CSS code replicates the style and layout of the provided image. The design includes a centered header, a content box with a restaurant name, an image placeholder, delivery information, and a link styled to match the original image.',\n",
       "  'stop_reason': 'stop',\n",
       "  'model': 'gpt4o'},\n",
       " {'id': '2008',\n",
       "  'messages': [{'content': '<image>\\nAfter scrutinizing the webpage screenshot provided, craft HTML code for a similar responsive layout. Present the script that reflects the spirit of the material design system.',\n",
       "    'role': 'user'},\n",
       "   {'content': '<!DOCTYPE html>\\n<html>\\n<head>\\n <title>Artist Portfolio</title>\\n <meta charset=\"UTF-8\">\\n <meta name=\"viewport\" content=\"width=device-width, initial-scale=1.0\">\\n <style>\\n  body {\\n font-family: \\'Montserrat\\', sans-serif;\\n background-color: #858585;\\n }\\n header {\\n background-color: #ffd180;\\n color: #fff;\\n padding: 20px;\\n text-align: center;\\n }\\n #bio {\\n width: 80%;\\n margin: 0 auto;\\n padding: 20px;\\n background-color: #fff;\\n border-radius: 5px;\\n box-shadow: 0 2px 5px rgba(0,0,0,0.1);\\n }\\n #gallery {\\n display: flex;\\n flex-wrap: wrap;\\n justify-content: center;\\n }\\n .artwork {\\n width: 200px;\\n margin: 20px;\\n border-radius: 5px;\\n box-shadow: 0 2px 5px rgba(0,0,0,0.1);\\n }\\n .artwork img {\\n width: 100%;\\n border-radius: 5px 5px 0 0;\\n }\\n .artwork h3 {\\n background: #fff;\\n padding: 10px;\\n text-align: center;\\n border-radius: 0 0 5px 5px;\\n margin-top: -10px;\\n }\\n </style>\\n</head>\\n<body>\\n <header>\\n <h1>Jessica\\'s Portfolio</h1>\\n </header>\\n <div id=\"bio\">\\n <h2>About the Artist</h2>\\n <p>Jessica is a London-based artist specializing in oil paintings and digital art.</p>\\n </div>\\n <div id=\"gallery\">\\n <div class=\"artwork\">\\n <img src=\"oilpainting.jpg\" alt=\"Oil Painting\">\\n <h3>The Awakening</h3>\\n </div>\\n <div class=\"artwork\">\\n <img src=\"digitalart.jpg\" alt=\"Digital Art\">\\n <h3>Space Odyssey</h3>\\n </div>\\n <div class=\"artwork\">\\n <img src=\"oilpainting2.jpg\" alt=\"Oil Painting\">\\n <h3>New Beginnings</h3>\\n </div>\\n </div>\\n</body>\\n</html>',\n",
       "    'role': 'assistant'}],\n",
       "  'images': ['/mnt/lingjiejiang/multimodal_code/data/Web2Code/new_data/2008.png'],\n",
       "  'revised_html': '<!DOCTYPE html>\\n<html lang=\"en\">\\n<head>\\n    <meta charset=\"UTF-8\">\\n    <meta name=\"viewport\" content=\"width=device-width, initial-scale=1.0\">\\n    <title>Jessica\\'s Portfolio</title>\\n    <style>\\n        body {\\n            margin: 0;\\n            font-family: Arial, sans-serif;\\n            background-color: #808080;\\n        }\\n        .header {\\n            background-color: #f5c16c;\\n            padding: 20px;\\n            text-align: center;\\n            font-size: 24px;\\n            font-weight: bold;\\n            color: #fff;\\n        }\\n        .content {\\n            background-color: #fff;\\n            margin: 20px auto;\\n            padding: 20px;\\n            width: 80%;\\n            max-width: 800px;\\n            border-radius: 8px;\\n            box-shadow: 0 2px 4px rgba(0, 0, 0, 0.1);\\n        }\\n        .content h2 {\\n            margin-top: 0;\\n        }\\n        .gallery {\\n            display: flex;\\n            justify-content: space-around;\\n            margin-top: 20px;\\n        }\\n        .gallery-item {\\n            background-color: #fff;\\n            border-radius: 8px;\\n            box-shadow: 0 2px 4px rgba(0, 0, 0, 0.2);\\n            width: 200px;\\n            text-align: center;\\n            overflow: hidden;\\n        }\\n        .gallery-item img {\\n            width: 100%;\\n            height: auto;\\n        }\\n        .gallery-item p {\\n            margin: 0;\\n            padding: 10px;\\n            font-weight: bold;\\n        }\\n    </style>\\n</head>\\n<body>\\n    <div class=\"header\">\\n        Jessica\\'s Portfolio\\n    </div>\\n    <div class=\"content\">\\n        <h2>About the Artist</h2>\\n        <p>Jessica is a London-based artist specializing in oil paintings and digital art.</p>\\n    </div>\\n    <div class=\"gallery\">\\n        <div class=\"gallery-item\">\\n            <img src=\"rick.jpg\" alt=\"Oil Painting\">\\n            <p>The Awakening</p>\\n        </div>\\n        <div class=\"gallery-item\">\\n            <img src=\"rick.jpg\" alt=\"Digital Art\">\\n            <p>Space Odyssey</p>\\n        </div>\\n        <div class=\"gallery-item\">\\n            <img src=\"rick.jpg\" alt=\"Oil Painting\">\\n            <p>New Beginnings</p>\\n        </div>\\n    </div>\\n</body>\\n</html>',\n",
       "  'original_html': '<!DOCTYPE html>\\n<html>\\n<head>\\n <title>Artist Portfolio</title>\\n <meta charset=\"UTF-8\">\\n <meta name=\"viewport\" content=\"width=device-width, initial-scale=1.0\">\\n <style>\\n  body {\\n font-family: \\'Montserrat\\', sans-serif;\\n background-color: #858585;\\n }\\n header {\\n background-color: #ffd180;\\n color: #fff;\\n padding: 20px;\\n text-align: center;\\n }\\n #bio {\\n width: 80%;\\n margin: 0 auto;\\n padding: 20px;\\n background-color: #fff;\\n border-radius: 5px;\\n box-shadow: 0 2px 5px rgba(0,0,0,0.1);\\n }\\n #gallery {\\n display: flex;\\n flex-wrap: wrap;\\n justify-content: center;\\n }\\n .artwork {\\n width: 200px;\\n margin: 20px;\\n border-radius: 5px;\\n box-shadow: 0 2px 5px rgba(0,0,0,0.1);\\n }\\n .artwork img {\\n width: 100%;\\n border-radius: 5px 5px 0 0;\\n }\\n .artwork h3 {\\n background: #fff;\\n padding: 10px;\\n text-align: center;\\n border-radius: 0 0 5px 5px;\\n margin-top: -10px;\\n }\\n </style>\\n</head>\\n<body>\\n <header>\\n <h1>Jessica\\'s Portfolio</h1>\\n </header>\\n <div id=\"bio\">\\n <h2>About the Artist</h2>\\n <p>Jessica is a London-based artist specializing in oil paintings and digital art.</p>\\n </div>\\n <div id=\"gallery\">\\n <div class=\"artwork\">\\n <img src=\"oilpainting.jpg\" alt=\"Oil Painting\">\\n <h3>The Awakening</h3>\\n </div>\\n <div class=\"artwork\">\\n <img src=\"digitalart.jpg\" alt=\"Digital Art\">\\n <h3>Space Odyssey</h3>\\n </div>\\n <div class=\"artwork\">\\n <img src=\"oilpainting2.jpg\" alt=\"Oil Painting\">\\n <h3>New Beginnings</h3>\\n </div>\\n </div>\\n</body>\\n</html>',\n",
       "  'gpt_answer': '```html\\n<!DOCTYPE html>\\n<html lang=\"en\">\\n<head>\\n    <meta charset=\"UTF-8\">\\n    <meta name=\"viewport\" content=\"width=device-width, initial-scale=1.0\">\\n    <title>Jessica\\'s Portfolio</title>\\n    <style>\\n        body {\\n            margin: 0;\\n            font-family: Arial, sans-serif;\\n            background-color: #808080;\\n        }\\n        .header {\\n            background-color: #f5c16c;\\n            padding: 20px;\\n            text-align: center;\\n            font-size: 24px;\\n            font-weight: bold;\\n            color: #fff;\\n        }\\n        .content {\\n            background-color: #fff;\\n            margin: 20px auto;\\n            padding: 20px;\\n            width: 80%;\\n            max-width: 800px;\\n            border-radius: 8px;\\n            box-shadow: 0 2px 4px rgba(0, 0, 0, 0.1);\\n        }\\n        .content h2 {\\n            margin-top: 0;\\n        }\\n        .gallery {\\n            display: flex;\\n            justify-content: space-around;\\n            margin-top: 20px;\\n        }\\n        .gallery-item {\\n            background-color: #fff;\\n            border-radius: 8px;\\n            box-shadow: 0 2px 4px rgba(0, 0, 0, 0.2);\\n            width: 200px;\\n            text-align: center;\\n            overflow: hidden;\\n        }\\n        .gallery-item img {\\n            width: 100%;\\n            height: auto;\\n        }\\n        .gallery-item p {\\n            margin: 0;\\n            padding: 10px;\\n            font-weight: bold;\\n        }\\n    </style>\\n</head>\\n<body>\\n    <div class=\"header\">\\n        Jessica\\'s Portfolio\\n    </div>\\n    <div class=\"content\">\\n        <h2>About the Artist</h2>\\n        <p>Jessica is a London-based artist specializing in oil paintings and digital art.</p>\\n    </div>\\n    <div class=\"gallery\">\\n        <div class=\"gallery-item\">\\n            <img src=\"rick.jpg\" alt=\"Oil Painting\">\\n            <p>The Awakening</p>\\n        </div>\\n        <div class=\"gallery-item\">\\n            <img src=\"rick.jpg\" alt=\"Digital Art\">\\n            <p>Space Odyssey</p>\\n        </div>\\n        <div class=\"gallery-item\">\\n            <img src=\"rick.jpg\" alt=\"Oil Painting\">\\n            <p>New Beginnings</p>\\n        </div>\\n    </div>\\n</body>\\n</html>\\n```\\n\\nThis HTML and CSS code creates a simple portfolio page with a header, an about section, and a gallery of artworks. The layout and styling are designed to closely match the provided image, with a focus on simplicity and clarity.',\n",
       "  'stop_reason': 'stop',\n",
       "  'model': 'gpt4o'}]"
      ]
     },
     "execution_count": 13,
     "metadata": {},
     "output_type": "execute_result"
    }
   ],
   "source": [
    "data[:2]"
   ]
  }
 ],
 "metadata": {
  "kernelspec": {
   "display_name": "design",
   "language": "python",
   "name": "python3"
  },
  "language_info": {
   "codemirror_mode": {
    "name": "ipython",
    "version": 3
   },
   "file_extension": ".py",
   "mimetype": "text/x-python",
   "name": "python",
   "nbconvert_exporter": "python",
   "pygments_lexer": "ipython3",
   "version": "3.10.16"
  }
 },
 "nbformat": 4,
 "nbformat_minor": 2
}
