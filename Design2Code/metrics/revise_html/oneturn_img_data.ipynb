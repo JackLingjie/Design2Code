{
 "cells": [
  {
   "cell_type": "code",
   "execution_count": 10,
   "metadata": {},
   "outputs": [
    {
     "name": "stdout",
     "output_type": "stream",
     "text": [
      "90291\n"
     ]
    }
   ],
   "source": [
    "import json\n",
    "output_file_filter = \"/mnt/lingjiejiang/multimodal_code/data/Web2Code/Web2Code_onetrun_with_img.json\"\n",
    "with open(output_file_filter, \"r\") as f:\n",
    "    data = json.load(f)\n",
    "    print(len(data))"
   ]
  },
  {
   "cell_type": "code",
   "execution_count": 11,
   "metadata": {},
   "outputs": [
    {
     "data": {
      "text/plain": [
       "[{'id': '2008',\n",
       "  'messages': [{'content': '<image>\\nAfter scrutinizing the webpage screenshot provided, craft HTML code for a similar responsive layout. Present the script that reflects the spirit of the material design system.',\n",
       "    'role': 'user'},\n",
       "   {'content': '<!DOCTYPE html>\\n<html>\\n<head>\\n <title>Artist Portfolio</title>\\n <meta charset=\"UTF-8\">\\n <meta name=\"viewport\" content=\"width=device-width, initial-scale=1.0\">\\n <style>\\n  body {\\n font-family: \\'Montserrat\\', sans-serif;\\n background-color: #858585;\\n }\\n header {\\n background-color: #ffd180;\\n color: #fff;\\n padding: 20px;\\n text-align: center;\\n }\\n #bio {\\n width: 80%;\\n margin: 0 auto;\\n padding: 20px;\\n background-color: #fff;\\n border-radius: 5px;\\n box-shadow: 0 2px 5px rgba(0,0,0,0.1);\\n }\\n #gallery {\\n display: flex;\\n flex-wrap: wrap;\\n justify-content: center;\\n }\\n .artwork {\\n width: 200px;\\n margin: 20px;\\n border-radius: 5px;\\n box-shadow: 0 2px 5px rgba(0,0,0,0.1);\\n }\\n .artwork img {\\n width: 100%;\\n border-radius: 5px 5px 0 0;\\n }\\n .artwork h3 {\\n background: #fff;\\n padding: 10px;\\n text-align: center;\\n border-radius: 0 0 5px 5px;\\n margin-top: -10px;\\n }\\n </style>\\n</head>\\n<body>\\n <header>\\n <h1>Jessica\\'s Portfolio</h1>\\n </header>\\n <div id=\"bio\">\\n <h2>About the Artist</h2>\\n <p>Jessica is a London-based artist specializing in oil paintings and digital art.</p>\\n </div>\\n <div id=\"gallery\">\\n <div class=\"artwork\">\\n <img src=\"oilpainting.jpg\" alt=\"Oil Painting\">\\n <h3>The Awakening</h3>\\n </div>\\n <div class=\"artwork\">\\n <img src=\"digitalart.jpg\" alt=\"Digital Art\">\\n <h3>Space Odyssey</h3>\\n </div>\\n <div class=\"artwork\">\\n <img src=\"oilpainting2.jpg\" alt=\"Oil Painting\">\\n <h3>New Beginnings</h3>\\n </div>\\n </div>\\n</body>\\n</html>',\n",
       "    'role': 'assistant'}],\n",
       "  'images': ['/mnt/lingjiejiang/multimodal_code/data/Web2Code/new_data/2008.png']},\n",
       " {'id': '9523',\n",
       "  'messages': [{'content': '<image>\\nGiven the image of a website design, can you devise the HTML to reproduce its structure? Discuss code maintaining consistency with material design.',\n",
       "    'role': 'user'},\n",
       "   {'content': '<!DOCTYPE html>\\n<html>\\n<head>\\n <title>New Game Launch</title>\\n <link rel=\"stylesheet\" type=\"text/css\" href=\"css/styles.css\">\\n</head>\\n<body>\\n <header>\\n <h1>New Game Launch!</h1>\\n <nav>\\n <a href=\"#\">Features</a>\\n <a href=\"#\">Screenshots</a>\\n <a href=\"#\">Purchase</a>\\n </nav>\\n </header>\\n <div class=\"features\">\\n <h2>Experience the World of <span class=\"game-name\">Aurascape</span></h2>\\n <p>Discover a vast open world and immerse yourself in endless adventure.</p>\\n <div class=\"details\">\\n <img src=\"img/logo.png\" alt=\"Aurascape logo\">\\n <h3>Character Customization</h3>\\n <p>Tailor your character\\'s appearance and abilities to suit your playstyle.</p>\\n </div>\\n <div class=\"details\">\\n <img src=\"img/mech-battle.jpg\" alt=\"Mech battles\">\\n <h3>Intense Mech Battles</h3>\\n <p>Utilize powerful mechs to engage in epic battles against your enemies.</p>\\n </div>\\n <div class=\"details\">\\n <img src=\"img/quests.jpg\" alt=\"Quests\">\\n <h3>Endless Side Quests</h3>\\n <p>Embark on numerous side quests and explore a world filled with secrets.</p>\\n </div>\\n <div class=\"details\">\\n <img src=\"img/branching-storyline.jpg\" alt=\"Branching storyline\">\\n <h3>Branching Storyline</h3>\\n <p>Your choices will impact the outcome of the story, creating a unique gaming experience.</p>\\n </div>\\n </div>\\n <div class=\"screenshots\">\\n <h2>Featured Screenshots</h2>\\n <img src=\"img/screenshot-1.jpg\" alt=\"screenshot 1\">\\n <img src=\"img/screenshot-2.jpg\" alt=\"screenshot 2\">\\n <img src=\"img/screenshot-3.jpg\" alt=\"screenshot 3\">\\n </div>\\n <div class=\"purchase\">\\n <h2>Get in the Game!</h2>\\n <p>Available now for just $29.99</p>\\n </div>\\n</body>\\n</html>',\n",
       "    'role': 'assistant'}],\n",
       "  'images': ['/mnt/lingjiejiang/multimodal_code/data/Web2Code/new_data/9523.png']}]"
      ]
     },
     "execution_count": 11,
     "metadata": {},
     "output_type": "execute_result"
    }
   ],
   "source": [
    "data[:2]"
   ]
  },
  {
   "cell_type": "code",
   "execution_count": 14,
   "metadata": {},
   "outputs": [
    {
     "name": "stdout",
     "output_type": "stream",
     "text": [
      "90291\n"
     ]
    }
   ],
   "source": [
    "with open(\"/mnt/lingjiejiang/multimodal_code/data/Web2Code/Web2Code_onetrun_with_img_newimg.json\", \"r\") as f:\n",
    "    data_new = json.load(f)\n",
    "    print(len(data_new))"
   ]
  },
  {
   "cell_type": "code",
   "execution_count": 15,
   "metadata": {},
   "outputs": [
    {
     "data": {
      "text/plain": [
       "[{'id': '2008',\n",
       "  'messages': [{'content': '<image>\\nAfter scrutinizing the webpage screenshot provided, craft HTML code for a similar responsive layout. Present the script that reflects the spirit of the material design system.',\n",
       "    'role': 'user'},\n",
       "   {'content': '<!DOCTYPE html>\\n<html>\\n<head>\\n <title>Artist Portfolio</title>\\n <meta charset=\"UTF-8\">\\n <meta name=\"viewport\" content=\"width=device-width, initial-scale=1.0\">\\n <style>\\n  body {\\n font-family: \\'Montserrat\\', sans-serif;\\n background-color: #858585;\\n }\\n header {\\n background-color: #ffd180;\\n color: #fff;\\n padding: 20px;\\n text-align: center;\\n }\\n #bio {\\n width: 80%;\\n margin: 0 auto;\\n padding: 20px;\\n background-color: #fff;\\n border-radius: 5px;\\n box-shadow: 0 2px 5px rgba(0,0,0,0.1);\\n }\\n #gallery {\\n display: flex;\\n flex-wrap: wrap;\\n justify-content: center;\\n }\\n .artwork {\\n width: 200px;\\n margin: 20px;\\n border-radius: 5px;\\n box-shadow: 0 2px 5px rgba(0,0,0,0.1);\\n }\\n .artwork img {\\n width: 100%;\\n border-radius: 5px 5px 0 0;\\n }\\n .artwork h3 {\\n background: #fff;\\n padding: 10px;\\n text-align: center;\\n border-radius: 0 0 5px 5px;\\n margin-top: -10px;\\n }\\n </style>\\n</head>\\n<body>\\n <header>\\n <h1>Jessica\\'s Portfolio</h1>\\n </header>\\n <div id=\"bio\">\\n <h2>About the Artist</h2>\\n <p>Jessica is a London-based artist specializing in oil paintings and digital art.</p>\\n </div>\\n <div id=\"gallery\">\\n <div class=\"artwork\">\\n <img src=\"oilpainting.jpg\" alt=\"Oil Painting\">\\n <h3>The Awakening</h3>\\n </div>\\n <div class=\"artwork\">\\n <img src=\"digitalart.jpg\" alt=\"Digital Art\">\\n <h3>Space Odyssey</h3>\\n </div>\\n <div class=\"artwork\">\\n <img src=\"oilpainting2.jpg\" alt=\"Oil Painting\">\\n <h3>New Beginnings</h3>\\n </div>\\n </div>\\n</body>\\n</html>',\n",
       "    'role': 'assistant'}],\n",
       "  'images': '/mnt/lingjiejiang/multimodal_code/data/web2code_new_images/new_data/2008.png'},\n",
       " {'id': '9523',\n",
       "  'messages': [{'content': '<image>\\nGiven the image of a website design, can you devise the HTML to reproduce its structure? Discuss code maintaining consistency with material design.',\n",
       "    'role': 'user'},\n",
       "   {'content': '<!DOCTYPE html>\\n<html>\\n<head>\\n <title>New Game Launch</title>\\n <link rel=\"stylesheet\" type=\"text/css\" href=\"css/styles.css\">\\n</head>\\n<body>\\n <header>\\n <h1>New Game Launch!</h1>\\n <nav>\\n <a href=\"#\">Features</a>\\n <a href=\"#\">Screenshots</a>\\n <a href=\"#\">Purchase</a>\\n </nav>\\n </header>\\n <div class=\"features\">\\n <h2>Experience the World of <span class=\"game-name\">Aurascape</span></h2>\\n <p>Discover a vast open world and immerse yourself in endless adventure.</p>\\n <div class=\"details\">\\n <img src=\"img/logo.png\" alt=\"Aurascape logo\">\\n <h3>Character Customization</h3>\\n <p>Tailor your character\\'s appearance and abilities to suit your playstyle.</p>\\n </div>\\n <div class=\"details\">\\n <img src=\"img/mech-battle.jpg\" alt=\"Mech battles\">\\n <h3>Intense Mech Battles</h3>\\n <p>Utilize powerful mechs to engage in epic battles against your enemies.</p>\\n </div>\\n <div class=\"details\">\\n <img src=\"img/quests.jpg\" alt=\"Quests\">\\n <h3>Endless Side Quests</h3>\\n <p>Embark on numerous side quests and explore a world filled with secrets.</p>\\n </div>\\n <div class=\"details\">\\n <img src=\"img/branching-storyline.jpg\" alt=\"Branching storyline\">\\n <h3>Branching Storyline</h3>\\n <p>Your choices will impact the outcome of the story, creating a unique gaming experience.</p>\\n </div>\\n </div>\\n <div class=\"screenshots\">\\n <h2>Featured Screenshots</h2>\\n <img src=\"img/screenshot-1.jpg\" alt=\"screenshot 1\">\\n <img src=\"img/screenshot-2.jpg\" alt=\"screenshot 2\">\\n <img src=\"img/screenshot-3.jpg\" alt=\"screenshot 3\">\\n </div>\\n <div class=\"purchase\">\\n <h2>Get in the Game!</h2>\\n <p>Available now for just $29.99</p>\\n </div>\\n</body>\\n</html>',\n",
       "    'role': 'assistant'}],\n",
       "  'images': '/mnt/lingjiejiang/multimodal_code/data/web2code_new_images/new_data/9523.png'}]"
      ]
     },
     "execution_count": 15,
     "metadata": {},
     "output_type": "execute_result"
    }
   ],
   "source": [
    "data_new[:2]"
   ]
  },
  {
   "cell_type": "code",
   "execution_count": 16,
   "metadata": {},
   "outputs": [],
   "source": [
    "import os\n",
    "import json\n",
    "output_file_filter = \"/mnt/lingjiejiang/multimodal_code/data/Web2Code/Web2Code_onetrun_with_img.json\"\n",
    "with open(output_file_filter, \"r\") as f:\n",
    "    img_data = json.load(f)\n",
    "len(img_data)\n",
    "for item in img_data:\n",
    "    item[\"images\"] = [os.path.join(\n",
    "        '/mnt/lingjiejiang/multimodal_code/data/web2code_new_images',\n",
    "        os.path.relpath(item[\"images\"][0], '/mnt/lingjiejiang/multimodal_code/data/Web2Code')\n",
    "    )]\n",
    "output_path = \"/mnt/lingjiejiang/multimodal_code/data/Web2Code/Web2Code_onetrun_with_img_newimg.json\"\n",
    "with open(output_path, \"w\") as f:\n",
    "    json.dump(img_data, f)"
   ]
  },
  {
   "cell_type": "code",
   "execution_count": 21,
   "metadata": {},
   "outputs": [
    {
     "name": "stdout",
     "output_type": "stream",
     "text": [
      "Data split 0 has 30097 items\n",
      "Data split 0 saved to /mnt/lingjiejiang/multimodal_code/data/Web2Code/Web2Code_onetrun_with_img_newimg_split0.json\n",
      "Data split 1 has 30097 items\n",
      "Data split 1 saved to /mnt/lingjiejiang/multimodal_code/data/Web2Code/Web2Code_onetrun_with_img_newimg_split1.json\n",
      "Data split 2 has 30097 items\n",
      "Data split 2 saved to /mnt/lingjiejiang/multimodal_code/data/Web2Code/Web2Code_onetrun_with_img_newimg_split2.json\n"
     ]
    }
   ],
   "source": [
    "input_path = \"/mnt/lingjiejiang/multimodal_code/data/Web2Code/Web2Code_onetrun_with_img_newimg.json\"\n",
    "output_base_path = '/mnt/lingjiejiang/multimodal_code/data/Web2Code/Web2Code_onetrun_with_img_newimg_split'  \n",
    "  \n",
    "# 读取数据  \n",
    "with open(input_path, 'r') as f:  \n",
    "    img_data = json.load(f)  \n",
    "  \n",
    "# 确定切割点  \n",
    "total_length = len(img_data)  \n",
    "split_size = total_length // 3  \n",
    "  \n",
    "# 切割数据并存储  \n",
    "for i in range(3):  \n",
    "    # 计算每一份的起始和结束索引  \n",
    "    start_idx = i * split_size  \n",
    "    # 对于最后一份，确保包括所有剩余元素  \n",
    "    end_idx = (i + 1) * split_size if i < 2 else total_length  \n",
    "      \n",
    "    # 获取切割后的数据  \n",
    "    split_data = img_data[start_idx:end_idx]  \n",
    "    print(f'Data split {i} has {len(split_data)} items')\n",
    "    # 存储到指定路径  \n",
    "    output_path = f'{output_base_path}{i}.json'  \n",
    "    with open(output_path, 'w') as out_file:  \n",
    "        json.dump(split_data, out_file, indent=0)  \n",
    "  \n",
    "    print(f'Data split {i} saved to {output_path}') "
   ]
  },
  {
   "cell_type": "code",
   "execution_count": 3,
   "metadata": {},
   "outputs": [],
   "source": [
    "from gpt4o import Openai, API_INFOS\n",
    "client = Openai(API_INFOS)\n",
    "response, stop_reason = client.get_raw_response(\"Hello, how are you?\", max_tokens=200)"
   ]
  },
  {
   "cell_type": "code",
   "execution_count": 12,
   "metadata": {},
   "outputs": [
    {
     "name": "stdout",
     "output_type": "stream",
     "text": [
      "10\n"
     ]
    }
   ],
   "source": [
    "import json\n",
    "with open(\"/mnt/lingjiejiang/multimodal_code/data/html_revised/final_output.json\", \"r\") as f:\n",
    "    data = json.load(f)\n",
    "    print(len(data))"
   ]
  },
  {
   "cell_type": "code",
   "execution_count": 2,
   "metadata": {},
   "outputs": [
    {
     "name": "stdout",
     "output_type": "stream",
     "text": [
      "22000\n"
     ]
    }
   ],
   "source": [
    "import json\n",
    "with open(\"/mnt/lingjiejiang/multimodal_code/data/html_revised_0/intermediate_batch_22.json\", \"r\") as f:\n",
    "    data = json.load(f)\n",
    "    print(len(data))"
   ]
  },
  {
   "cell_type": "code",
   "execution_count": 4,
   "metadata": {},
   "outputs": [
    {
     "name": "stdout",
     "output_type": "stream",
     "text": [
      "30097\n"
     ]
    }
   ],
   "source": [
    "with open(\"/mnt/lingjiejiang/multimodal_code/data/html_revised_1/final_output_1.json\", \"r\") as f:\n",
    "    data = json.load(f)\n",
    "    print(len(data))"
   ]
  },
  {
   "cell_type": "code",
   "execution_count": 6,
   "metadata": {},
   "outputs": [
    {
     "name": "stdout",
     "output_type": "stream",
     "text": [
      "30097\n"
     ]
    }
   ],
   "source": [
    "with open(\"/mnt/lingjiejiang/multimodal_code/data/html_revised_2/final_output_2.json\", \"r\") as f:\n",
    "    data = json.load(f)\n",
    "    print(len(data))"
   ]
  },
  {
   "cell_type": "code",
   "execution_count": 3,
   "metadata": {},
   "outputs": [
    {
     "data": {
      "text/plain": [
       "[{'id': '6585',\n",
       "  'messages': [{'content': '<image>\\nPlease design a responsive webpage with HTML according to the structure seen in the screenshot. Explore code which stands for the principles of material design.',\n",
       "    'role': 'user'},\n",
       "   {'content': '<!DOCTYPE html>\\n<html>\\n<head>\\n <title>Food Delivery Service</title>\\n <meta name=\"viewport\" content=\"width=device-width, initial-scale=1.0\">\\n <style>\\n  body {\\n font-family: \\'Sans-Serif\\', sans-serif;\\n background-color: #e6e6e6;\\n text-align: center;\\n }\\n .restaurant {\\n margin: 20px 0;\\n border: 1px solid black;\\n background-color: #ffffff;\\n }\\n p {\\n color: #cc3333;\\n }\\n </style>\\n</head>\\n<body>\\n <h1>Welcome to Our Food Delivery Service</h1>\\n <div class=\"restaurant\">\\n <h2>Placeholder Chinese Restaurant</h2>\\n <img src=\"/path/to/restaurant.jpg\" alt=\"Restaurant Image\">\\n <p>Delivery available within 5km radius.</p>\\n <a href=\"https://www.instagram.com/chineserestaurant\" target=\"_blank\">Follow us on Instagram!</a>\\n </div>\\n</body>\\n</html>',\n",
       "    'role': 'assistant'}],\n",
       "  'images': ['/mnt/lingjiejiang/multimodal_code/data/web2code_new_images/new_data/6585.png'],\n",
       "  'revised_html': '<!DOCTYPE html>\\n<html lang=\"en\">\\n<head>\\n    <meta charset=\"UTF-8\">\\n    <meta name=\"viewport\" content=\"width=device-width, initial-scale=1.0\">\\n    <title>Food Delivery Service</title>\\n    <style>\\n        body {\\n            margin: 0;\\n            padding: 0;\\n            font-family: Arial, sans-serif;\\n            background-color: #e0e0e0;\\n            display: flex;\\n            justify-content: center;\\n            align-items: center;\\n            height: 100vh;\\n        }\\n        .container {\\n            text-align: center;\\n            background-color: #fff;\\n            border: 1px solid #000;\\n            padding: 20px;\\n            width: 60%;\\n            box-shadow: 0 0 10px rgba(0, 0, 0, 0.1);\\n        }\\n        h1 {\\n            font-size: 2em;\\n            margin-bottom: 20px;\\n        }\\n        h2 {\\n            font-size: 1.5em;\\n            margin: 20px 0;\\n        }\\n        img {\\n            width: 100px;\\n            height: auto;\\n            margin: 10px 0;\\n        }\\n        .delivery-info {\\n            color: red;\\n            margin: 10px 0;\\n        }\\n        .instagram-link {\\n            color: blue;\\n            text-decoration: none;\\n        }\\n    </style>\\n</head>\\n<body>\\n    <div class=\"container\">\\n        <h1>Welcome to Our Food Delivery Service</h1>\\n        <h2>Placeholder Chinese Restaurant</h2>\\n        <img src=\"rick.jpg\" alt=\"Restaurant Image\">\\n        <p class=\"delivery-info\">Delivery available within 5km radius.</p>\\n        <a href=\"#\" class=\"instagram-link\">Follow us on Instagram!</a>\\n    </div>\\n</body>\\n</html>',\n",
       "  'original_html': '<!DOCTYPE html>\\n<html>\\n<head>\\n <title>Food Delivery Service</title>\\n <meta name=\"viewport\" content=\"width=device-width, initial-scale=1.0\">\\n <style>\\n  body {\\n font-family: \\'Sans-Serif\\', sans-serif;\\n background-color: #e6e6e6;\\n text-align: center;\\n }\\n .restaurant {\\n margin: 20px 0;\\n border: 1px solid black;\\n background-color: #ffffff;\\n }\\n p {\\n color: #cc3333;\\n }\\n </style>\\n</head>\\n<body>\\n <h1>Welcome to Our Food Delivery Service</h1>\\n <div class=\"restaurant\">\\n <h2>Placeholder Chinese Restaurant</h2>\\n <img src=\"/path/to/restaurant.jpg\" alt=\"Restaurant Image\">\\n <p>Delivery available within 5km radius.</p>\\n <a href=\"https://www.instagram.com/chineserestaurant\" target=\"_blank\">Follow us on Instagram!</a>\\n </div>\\n</body>\\n</html>',\n",
       "  'gpt_answer': 'Certainly! Below is the complete HTML code with embedded CSS to replicate the style of the provided image:\\n\\n```html\\n<!DOCTYPE html>\\n<html lang=\"en\">\\n<head>\\n    <meta charset=\"UTF-8\">\\n    <meta name=\"viewport\" content=\"width=device-width, initial-scale=1.0\">\\n    <title>Food Delivery Service</title>\\n    <style>\\n        body {\\n            margin: 0;\\n            padding: 0;\\n            font-family: Arial, sans-serif;\\n            background-color: #e0e0e0;\\n            display: flex;\\n            justify-content: center;\\n            align-items: center;\\n            height: 100vh;\\n        }\\n        .container {\\n            text-align: center;\\n            background-color: #fff;\\n            border: 1px solid #000;\\n            padding: 20px;\\n            width: 60%;\\n            box-shadow: 0 0 10px rgba(0, 0, 0, 0.1);\\n        }\\n        h1 {\\n            font-size: 2em;\\n            margin-bottom: 20px;\\n        }\\n        h2 {\\n            font-size: 1.5em;\\n            margin: 20px 0;\\n        }\\n        img {\\n            width: 100px;\\n            height: auto;\\n            margin: 10px 0;\\n        }\\n        .delivery-info {\\n            color: red;\\n            margin: 10px 0;\\n        }\\n        .instagram-link {\\n            color: blue;\\n            text-decoration: none;\\n        }\\n    </style>\\n</head>\\n<body>\\n    <div class=\"container\">\\n        <h1>Welcome to Our Food Delivery Service</h1>\\n        <h2>Placeholder Chinese Restaurant</h2>\\n        <img src=\"rick.jpg\" alt=\"Restaurant Image\">\\n        <p class=\"delivery-info\">Delivery available within 5km radius.</p>\\n        <a href=\"#\" class=\"instagram-link\">Follow us on Instagram!</a>\\n    </div>\\n</body>\\n</html>\\n```\\n\\nThis HTML file includes all necessary styles within the `<style>` tag in the `<head>` section, ensuring that the design is self-contained and does not rely on any external resources. The layout is centered on the page, and all elements are styled to match the provided image.',\n",
       "  'stop_reason': 'stop',\n",
       "  'model': 'gpt4o'},\n",
       " {'id': '4945',\n",
       "  'messages': [{'content': '<image>\\nCompose HTML code to represent the structure of the webpage in the provided image. Guide through code adopting the conventions of material design.',\n",
       "    'role': 'user'},\n",
       "   {'content': '<!DOCTYPE html>\\n<html>\\n<head>\\n <meta charset=\"UTF-8\">\\n <meta name=\"viewport\" content=\"width=device-width, initial-scale=1.0\">\\n <title>Researcher\\'s Personal Website</title>\\n <style>\\n  body {\\n font-family: \\'Poppins\\', sans-serif;\\n }\\n .header {\\n text-align: center;\\n }\\n img {\\n display: block;\\n margin: auto;\\n border-radius: 50%;\\n max-width: 200px;\\n }\\n .bio {\\n max-width: 800px;\\n margin: auto;\\n text-align: justify;\\n }\\n .links {\\n display: flex;\\n justify-content: space-evenly;\\n margin-top: 20px;\\n }\\n .links a {\\n text-decoration: none;\\n color: #555;\\n background-color: #fff;\\n padding: 5px 10px;\\n border-radius: 4px;\\n transition: background-color 0.3s;\\n }\\n .links a:hover {\\n background-color: #eee;\\n }\\n </style>\\n</head>\\n<body>\\n <h1 class=\"header\">John Doe, PhD</h1>\\n <p class=\"header\">AI Researcher, XYZ University</p>\\n <img src=\"/path/to/headshot.jpg\" alt=\"Headshot\">\\n <div class=\"bio\">\\n <p><strong>Bio:</strong> Lorem ipsum dolor sit amet, consectetur adipiscing elit. Etiam finibus nibh quis urna consequat malesuada. Nunc sollicitudin, nulla a tincidunt auctor, mauris urna luctus ipsum, sed hendrerit eros arcu at diam. Nunc a erat et elit vestibulum ultrices. Pellentesque ipsum eros, porta in volutpat a, semper eget mauris.</p>\\n <p><strong>Research Interests:</strong> Artificial intelligence, machine learning, deep learning, natural language processing</p>\\n </div>\\n <div class=\"links\">\\n <p><strong>Publications:</strong> Lorem ipsum, dolor sit amet, consectetur adipiscing elit. Sed a ligula sapien.</p>\\n <p><strong>Follow me on:</strong> <a href=\"#\">Twitter</a>, <a href=\"#\">LinkedIn</a></p>\\n </div>\\n</body>\\n</html>',\n",
       "    'role': 'assistant'}],\n",
       "  'images': ['/mnt/lingjiejiang/multimodal_code/data/web2code_new_images/new_data/4945.png'],\n",
       "  'revised_html': '<!DOCTYPE html>\\n<html lang=\"en\">\\n<head>\\n    <meta charset=\"UTF-8\">\\n    <meta name=\"viewport\" content=\"width=device-width, initial-scale=1.0\">\\n    <title>John Doe, PhD</title>\\n    <style>\\n        body {\\n            font-family: Arial, sans-serif;\\n            margin: 0;\\n            padding: 0;\\n            display: flex;\\n            justify-content: center;\\n            align-items: center;\\n            height: 100vh;\\n            background-color: #f9f9f9;\\n        }\\n        .container {\\n            text-align: center;\\n            max-width: 800px;\\n            padding: 20px;\\n            background-color: #fff;\\n            box-shadow: 0 0 10px rgba(0, 0, 0, 0.1);\\n        }\\n        h1 {\\n            font-size: 2em;\\n            font-weight: bold;\\n            margin: 0;\\n        }\\n        h2 {\\n            font-size: 1.2em;\\n            color: #555;\\n            margin: 10px 0;\\n        }\\n        img {\\n            width: 100px;\\n            height: 100px;\\n            border-radius: 50%;\\n            margin: 20px 0;\\n        }\\n        p {\\n            text-align: left;\\n            line-height: 1.6;\\n            margin: 10px 0;\\n        }\\n        .bold {\\n            font-weight: bold;\\n        }\\n        .social-links {\\n            margin-top: 20px;\\n        }\\n        .social-links a {\\n            margin: 0 10px;\\n            text-decoration: none;\\n            color: #0073b1;\\n        }\\n    </style>\\n</head>\\n<body>\\n    <div class=\"container\">\\n        <h1>John Doe, PhD</h1>\\n        <h2>AI Researcher, XYZ University</h2>\\n        <img src=\"rick.jpg\" alt=\"Headshot\">\\n        <p><span class=\"bold\">Bio:</span> Lorem ipsum dolor sit amet, consectetur adipiscing elit. Etiam finibus nibh quis urna consequat malesuada. Nunc sollicitudin, nulla a tincidunt auctor, mauris urna luctus ipsum, sed hendrerit eros arcu at diam. Nunc a erat et elit vestibulum ultrices. Pellentesque ipsum eros, porta in volutpat a, semper eget mauris.</p>\\n        <p><span class=\"bold\">Research Interests:</span> Artificial intelligence, machine learning, deep learning, natural language processing</p>\\n        <p><span class=\"bold\">Publications:</span> Lorem ipsum, dolor sit amet, consectetur adipiscing elit. Sed a ligula sapien.</p>\\n        <div class=\"social-links\">\\n            <span class=\"bold\">Follow me on:</span>\\n            <a href=\"#\">Twitter</a>,\\n            <a href=\"#\">LinkedIn</a>\\n        </div>\\n    </div>\\n</body>\\n</html>',\n",
       "  'original_html': '<!DOCTYPE html>\\n<html>\\n<head>\\n <meta charset=\"UTF-8\">\\n <meta name=\"viewport\" content=\"width=device-width, initial-scale=1.0\">\\n <title>Researcher\\'s Personal Website</title>\\n <style>\\n  body {\\n font-family: \\'Poppins\\', sans-serif;\\n }\\n .header {\\n text-align: center;\\n }\\n img {\\n display: block;\\n margin: auto;\\n border-radius: 50%;\\n max-width: 200px;\\n }\\n .bio {\\n max-width: 800px;\\n margin: auto;\\n text-align: justify;\\n }\\n .links {\\n display: flex;\\n justify-content: space-evenly;\\n margin-top: 20px;\\n }\\n .links a {\\n text-decoration: none;\\n color: #555;\\n background-color: #fff;\\n padding: 5px 10px;\\n border-radius: 4px;\\n transition: background-color 0.3s;\\n }\\n .links a:hover {\\n background-color: #eee;\\n }\\n </style>\\n</head>\\n<body>\\n <h1 class=\"header\">John Doe, PhD</h1>\\n <p class=\"header\">AI Researcher, XYZ University</p>\\n <img src=\"/path/to/headshot.jpg\" alt=\"Headshot\">\\n <div class=\"bio\">\\n <p><strong>Bio:</strong> Lorem ipsum dolor sit amet, consectetur adipiscing elit. Etiam finibus nibh quis urna consequat malesuada. Nunc sollicitudin, nulla a tincidunt auctor, mauris urna luctus ipsum, sed hendrerit eros arcu at diam. Nunc a erat et elit vestibulum ultrices. Pellentesque ipsum eros, porta in volutpat a, semper eget mauris.</p>\\n <p><strong>Research Interests:</strong> Artificial intelligence, machine learning, deep learning, natural language processing</p>\\n </div>\\n <div class=\"links\">\\n <p><strong>Publications:</strong> Lorem ipsum, dolor sit amet, consectetur adipiscing elit. Sed a ligula sapien.</p>\\n <p><strong>Follow me on:</strong> <a href=\"#\">Twitter</a>, <a href=\"#\">LinkedIn</a></p>\\n </div>\\n</body>\\n</html>',\n",
       "  'gpt_answer': '```html\\n<!DOCTYPE html>\\n<html lang=\"en\">\\n<head>\\n    <meta charset=\"UTF-8\">\\n    <meta name=\"viewport\" content=\"width=device-width, initial-scale=1.0\">\\n    <title>John Doe, PhD</title>\\n    <style>\\n        body {\\n            font-family: Arial, sans-serif;\\n            margin: 0;\\n            padding: 0;\\n            display: flex;\\n            justify-content: center;\\n            align-items: center;\\n            height: 100vh;\\n            background-color: #f9f9f9;\\n        }\\n        .container {\\n            text-align: center;\\n            max-width: 800px;\\n            padding: 20px;\\n            background-color: #fff;\\n            box-shadow: 0 0 10px rgba(0, 0, 0, 0.1);\\n        }\\n        h1 {\\n            font-size: 2em;\\n            font-weight: bold;\\n            margin: 0;\\n        }\\n        h2 {\\n            font-size: 1.2em;\\n            color: #555;\\n            margin: 10px 0;\\n        }\\n        img {\\n            width: 100px;\\n            height: 100px;\\n            border-radius: 50%;\\n            margin: 20px 0;\\n        }\\n        p {\\n            text-align: left;\\n            line-height: 1.6;\\n            margin: 10px 0;\\n        }\\n        .bold {\\n            font-weight: bold;\\n        }\\n        .social-links {\\n            margin-top: 20px;\\n        }\\n        .social-links a {\\n            margin: 0 10px;\\n            text-decoration: none;\\n            color: #0073b1;\\n        }\\n    </style>\\n</head>\\n<body>\\n    <div class=\"container\">\\n        <h1>John Doe, PhD</h1>\\n        <h2>AI Researcher, XYZ University</h2>\\n        <img src=\"rick.jpg\" alt=\"Headshot\">\\n        <p><span class=\"bold\">Bio:</span> Lorem ipsum dolor sit amet, consectetur adipiscing elit. Etiam finibus nibh quis urna consequat malesuada. Nunc sollicitudin, nulla a tincidunt auctor, mauris urna luctus ipsum, sed hendrerit eros arcu at diam. Nunc a erat et elit vestibulum ultrices. Pellentesque ipsum eros, porta in volutpat a, semper eget mauris.</p>\\n        <p><span class=\"bold\">Research Interests:</span> Artificial intelligence, machine learning, deep learning, natural language processing</p>\\n        <p><span class=\"bold\">Publications:</span> Lorem ipsum, dolor sit amet, consectetur adipiscing elit. Sed a ligula sapien.</p>\\n        <div class=\"social-links\">\\n            <span class=\"bold\">Follow me on:</span>\\n            <a href=\"#\">Twitter</a>,\\n            <a href=\"#\">LinkedIn</a>\\n        </div>\\n    </div>\\n</body>\\n</html>\\n```',\n",
       "  'stop_reason': 'stop',\n",
       "  'model': 'gpt4o'}]"
      ]
     },
     "execution_count": 3,
     "metadata": {},
     "output_type": "execute_result"
    }
   ],
   "source": [
    "data[:2]"
   ]
  },
  {
   "cell_type": "code",
   "execution_count": 11,
   "metadata": {},
   "outputs": [
    {
     "name": "stdout",
     "output_type": "stream",
     "text": [
      "30097\n"
     ]
    }
   ],
   "source": [
    "with open(\"/mnt/lingjiejiang/multimodal_code/data/Web2Code/Web2Code_onetrun_with_img_newimg_split0.json\", \"r\") as f:\n",
    "    data_1 = json.load(f)\n",
    "    print(len(data_1))"
   ]
  },
  {
   "cell_type": "code",
   "execution_count": 12,
   "metadata": {},
   "outputs": [
    {
     "name": "stdout",
     "output_type": "stream",
     "text": [
      "24000\n"
     ]
    }
   ],
   "source": [
    "with open(\"/mnt/lingjiejiang/multimodal_code/data/html_revised_0/intermediate_batch_24.json\", \"r\") as f:\n",
    "    data_1_revised = json.load(f)\n",
    "    print(len(data_1_revised))"
   ]
  },
  {
   "cell_type": "code",
   "execution_count": 14,
   "metadata": {},
   "outputs": [],
   "source": [
    "finished_data = [item[\"id\"] for item in data_1_revised]\n",
    "unfinished_data = [item for item in data_1 if item[\"id\"] not in finished_data]"
   ]
  },
  {
   "cell_type": "code",
   "execution_count": 15,
   "metadata": {},
   "outputs": [
    {
     "data": {
      "text/plain": [
       "6097"
      ]
     },
     "execution_count": 15,
     "metadata": {},
     "output_type": "execute_result"
    }
   ],
   "source": [
    "len(unfinished_data)"
   ]
  },
  {
   "cell_type": "code",
   "execution_count": 19,
   "metadata": {},
   "outputs": [
    {
     "name": "stdout",
     "output_type": "stream",
     "text": [
      "Data split 0 has 3048 items\n",
      "Data split 0 saved to /mnt/lingjiejiang/multimodal_code/data/Web2Code/Web2Code_onetrun_with_img_newimg_split3.json\n",
      "Data split 1 has 3049 items\n",
      "Data split 1 saved to /mnt/lingjiejiang/multimodal_code/data/Web2Code/Web2Code_onetrun_with_img_newimg_split4.json\n"
     ]
    }
   ],
   "source": [
    "input_path = \"/mnt/lingjiejiang/multimodal_code/data/Web2Code/Web2Code_onetrun_with_img_newimg.json\"\n",
    "output_base_path = '/mnt/lingjiejiang/multimodal_code/data/Web2Code/Web2Code_onetrun_with_img_newimg_split'  \n",
    "  \n",
    "# 读取数据  \n",
    "# with open(input_path, 'r') as f:  \n",
    "#     img_data = json.load(f)  \n",
    "  \n",
    "# 确定切割点  \n",
    "total_length = len(unfinished_data)  \n",
    "split_size = total_length // 2  \n",
    "  \n",
    "# 切割数据并存储  \n",
    "for i in range(2):  \n",
    "    # 计算每一份的起始和结束索引  \n",
    "    start_idx = i * split_size  \n",
    "    # 对于最后一份，确保包括所有剩余元素  \n",
    "    end_idx = (i + 1) * split_size if i < 1 else total_length  \n",
    "      \n",
    "    # 获取切割后的数据  \n",
    "    split_data = unfinished_data[start_idx:end_idx]  \n",
    "    print(f'Data split {i} has {len(split_data)} items')\n",
    "    # 存储到指定路径  \n",
    "    output_path = f'{output_base_path}{i + 3}.json'  \n",
    "    with open(output_path, 'w') as out_file:  \n",
    "        json.dump(split_data, out_file, indent=0)  \n",
    "  \n",
    "    print(f'Data split {i} saved to {output_path}') "
   ]
  }
 ],
 "metadata": {
  "kernelspec": {
   "display_name": "design",
   "language": "python",
   "name": "python3"
  },
  "language_info": {
   "codemirror_mode": {
    "name": "ipython",
    "version": 3
   },
   "file_extension": ".py",
   "mimetype": "text/x-python",
   "name": "python",
   "nbconvert_exporter": "python",
   "pygments_lexer": "ipython3",
   "version": "3.10.16"
  }
 },
 "nbformat": 4,
 "nbformat_minor": 2
}
