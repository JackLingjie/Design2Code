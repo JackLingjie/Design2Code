{
 "cells": [
  {
   "cell_type": "code",
   "execution_count": 2,
   "metadata": {},
   "outputs": [],
   "source": [
    "import json  \n",
    "import random  \n",
    "  \n",
    "# 输入文件路径  \n",
    "input_file = \"/mnt/lingjiejiang/multimodal_code/data/Web2Code/Web2Code_sharegpt_format_abspath_filter.json\"  \n",
    "\n",
    "# 打开并加载原始数据  \n",
    "with open(input_file, 'r') as f:  \n",
    "    web2code_all_data = json.load(f) "
   ]
  },
  {
   "cell_type": "code",
   "execution_count": 19,
   "metadata": {},
   "outputs": [],
   "source": [
    "target_item = []\n",
    "for item in web2code_all_data:\n",
    "    if \"Web2Code/WebSight_images_new\" in item['images'][0]:\n",
    "        target_item.append(item)"
   ]
  },
  {
   "cell_type": "code",
   "execution_count": 21,
   "metadata": {},
   "outputs": [
    {
     "data": {
      "text/plain": [
       "827731"
      ]
     },
     "execution_count": 21,
     "metadata": {},
     "output_type": "execute_result"
    }
   ],
   "source": [
    "len(web2code_all_data)"
   ]
  },
  {
   "cell_type": "code",
   "execution_count": 17,
   "metadata": {},
   "outputs": [
    {
     "data": {
      "text/plain": [
       "807249"
      ]
     },
     "execution_count": 17,
     "metadata": {},
     "output_type": "execute_result"
    }
   ],
   "source": [
    "one_turn = []\n",
    "for item in web2code_all_data:\n",
    "    if len(item[\"messages\"]) == 2:\n",
    "        one_turn.append(item)\n",
    "len(one_turn)"
   ]
  },
  {
   "cell_type": "code",
   "execution_count": 18,
   "metadata": {},
   "outputs": [],
   "source": [
    "sample_data50 = random.sample(one_turn, 50)\n",
    "with open(\"webdata_sample50.json\", 'w') as f:  \n",
    "    json.dump(sample_data50, f, indent=4)"
   ]
  },
  {
   "cell_type": "code",
   "execution_count": 4,
   "metadata": {},
   "outputs": [],
   "source": [
    "with open(\"test.json\", 'w') as f:  \n",
    "    json.dump(web2code_all_data[:5], f, indent=4)"
   ]
  },
  {
   "cell_type": "code",
   "execution_count": 25,
   "metadata": {},
   "outputs": [
    {
     "data": {
      "text/plain": [
       "'pix2code/83319D6A-69EA-4156-96B5-BF0616513380.png'"
      ]
     },
     "execution_count": 25,
     "metadata": {},
     "output_type": "execute_result"
    }
   ],
   "source": [
    "import os\n",
    "os.path.relpath('/mnt/lingjiejiang/multimodal_code/data/Web2Code/pix2code/83319D6A-69EA-4156-96B5-BF0616513380.png', '/mnt/lingjiejiang/multimodal_code/data/Web2Code/')  "
   ]
  },
  {
   "cell_type": "code",
   "execution_count": 26,
   "metadata": {},
   "outputs": [
    {
     "name": "stdout",
     "output_type": "stream",
     "text": [
      "Image saved at predict/pix2code/99720969-917D-4843-BB69-D09AF953F258.png\n",
      "Image saved at predict/pix2code/83319D6A-69EA-4156-96B5-BF0616513380.png\n"
     ]
    }
   ],
   "source": [
    "import json  \n",
    "import subprocess  \n",
    "import os  \n",
    "  \n",
    "# # 输入文件路径  \n",
    "# input_file = \"/mnt/lingjiejiang/multimodal_code/data/Web2Code/Web2Code_sharegpt_format_abspath_filter.json\"  \n",
    "  \n",
    "# # 打开并加载原始数据  \n",
    "# with open(input_file, 'r') as f:  \n",
    "#     web2code_all_data = json.load(f)  \n",
    "  \n",
    "# 处理每个数据项  \n",
    "for item in web2code_all_data[:2]:  \n",
    "    html_content = item['messages'][1]['content']  \n",
    "    image_path = item['images'][0]  \n",
    "      \n",
    "    # 生成新的图片路径，在原有路径前加上 'predict'  \n",
    "    predict_img_path = os.path.join(  \n",
    "        'predict',  \n",
    "        os.path.relpath(image_path, '/mnt/lingjiejiang/multimodal_code/data/Web2Code/')  \n",
    "    )  \n",
    "      \n",
    "    # 确保目录存在  \n",
    "    os.makedirs(os.path.dirname(predict_img_path), exist_ok=True)  \n",
    "      \n",
    "    # 调用 screenshot_single_filter.py 脚本  \n",
    "    try:  \n",
    "        result = subprocess.run(  \n",
    "            [\"python3\", \"screenshot_single_filter.py\", \"--content\", html_content, \"--png\", predict_img_path],  \n",
    "            check=True,  \n",
    "            text=True,  \n",
    "            capture_output=True  \n",
    "        )  \n",
    "        print(f\"Image saved at {predict_img_path}\")  \n",
    "    except subprocess.CalledProcessError as e:  \n",
    "        print(f\"Command failed with error: {e.stderr}\")  "
   ]
  },
  {
   "cell_type": "code",
   "execution_count": 9,
   "metadata": {},
   "outputs": [],
   "source": [
    "import json\n",
    "with open(\"miss_item.json\", 'r') as f:  \n",
    "    miss_item = json.load(f)"
   ]
  },
  {
   "cell_type": "code",
   "execution_count": 21,
   "metadata": {},
   "outputs": [],
   "source": [
    "content = miss_item[0][\"messages\"][1][\"content\"]"
   ]
  },
  {
   "cell_type": "code",
   "execution_count": 24,
   "metadata": {},
   "outputs": [
    {
     "name": "stdout",
     "output_type": "stream",
     "text": [
      "\n"
     ]
    }
   ],
   "source": [
    "import subprocess  \n",
    "result = subprocess.run(  \n",
    "    [\"python3\", \"screenshot_single_filter.py\", \"--content\", content, \"--png\", \"test.png\"],  \n",
    "    check=True,  \n",
    "    text=True,  \n",
    "    capture_output=True  \n",
    ")  \n",
    "print(result.stdout)  # 输出命令的标准输出"
   ]
  }
 ],
 "metadata": {
  "kernelspec": {
   "display_name": "design",
   "language": "python",
   "name": "python3"
  },
  "language_info": {
   "codemirror_mode": {
    "name": "ipython",
    "version": 3
   },
   "file_extension": ".py",
   "mimetype": "text/x-python",
   "name": "python",
   "nbconvert_exporter": "python",
   "pygments_lexer": "ipython3",
   "version": "3.10.16"
  }
 },
 "nbformat": 4,
 "nbformat_minor": 2
}
