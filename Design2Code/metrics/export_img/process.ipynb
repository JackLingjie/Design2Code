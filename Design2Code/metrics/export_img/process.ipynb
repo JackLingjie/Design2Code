{
 "cells": [
  {
   "cell_type": "code",
   "execution_count": 1,
   "metadata": {},
   "outputs": [
    {
     "data": {
      "text/plain": [
       "0"
      ]
     },
     "execution_count": 1,
     "metadata": {},
     "output_type": "execute_result"
    }
   ],
   "source": [
    "import json\n",
    "with open('/mnt/lingjiejiang/multimodal_code/data/github_html/miss_item.json') as f:\n",
    "    data = json.load(f)\n",
    "len(data)"
   ]
  },
  {
   "cell_type": "code",
   "execution_count": 4,
   "metadata": {},
   "outputs": [
    {
     "data": {
      "text/plain": [
       "3"
      ]
     },
     "execution_count": 4,
     "metadata": {},
     "output_type": "execute_result"
    }
   ],
   "source": [
    "import json\n",
    "filepath = \"/mnt/unilm/shaohanh/data/code/purehtml_v4/split0000000001.jsonl\"\n",
    "with open(filepath, \"r\") as f:\n",
    "    data = [json.loads(line) for line in f]\n",
    "len(data)"
   ]
  },
  {
   "cell_type": "code",
   "execution_count": 6,
   "metadata": {},
   "outputs": [],
   "source": [
    "import os  \n",
    "import json  \n",
    "  \n",
    "# 目录路径  \n",
    "directory_path = '/mnt/unilm/shaohanh/data/code/purehtml_v4'  \n",
    "# 输出文件路径  \n",
    "output_file_path = os.path.join(directory_path, 'merged_v4.jsonl')  \n",
    "  \n",
    "# 获取目录下所有的 .jsonl 文件  \n",
    "files_to_merge = [f for f in os.listdir(directory_path) if f.endswith('.jsonl')]  \n",
    "  \n",
    "# 初始化一个列表来存储所有的 JSON 对象  \n",
    "merged_data = []  \n",
    "  \n",
    "# 逐个读取每个文件  \n",
    "for filename in files_to_merge:  \n",
    "    file_path = os.path.join(directory_path, filename)  \n",
    "    with open(file_path, 'r') as infile:  \n",
    "        # 逐行读取文件内容  \n",
    "        for line in infile:  \n",
    "            # 将 JSON 字符串解析为 Python 对象并添加到列表中  \n",
    "            merged_data.append(json.loads(line))  \n",
    "  \n",
    "# # 将合并的数据写入输出文件  \n",
    "# with open(output_file_path, 'w') as outfile:  \n",
    "#     for item in merged_data:  \n",
    "#         # 将 Python 对象转为 JSON 字符串并写入文件，每个对象一行  \n",
    "#         outfile.write(json.dumps(item) + '\\n')  \n",
    "  \n",
    "# print(f\"合并完成，输出文件为: {output_file_path}\")  "
   ]
  },
  {
   "cell_type": "code",
   "execution_count": 7,
   "metadata": {},
   "outputs": [
    {
     "data": {
      "text/plain": [
       "14527"
      ]
     },
     "execution_count": 7,
     "metadata": {},
     "output_type": "execute_result"
    }
   ],
   "source": [
    "len(merged_data)"
   ]
  },
  {
   "cell_type": "code",
   "execution_count": 12,
   "metadata": {},
   "outputs": [
    {
     "data": {
      "text/plain": [
       "[{'text': '\\n<!DOCTYPE html>\\n\\n<html>\\n<head>\\n<meta charset=\"utf-8\"/>\\n<title>works in public</title>\\n<link href=\"style.css\" rel=\"stylesheet\"/>\\n</head>\\n<body>\\n<style>\\n\\t\\t\\t\\tbody {\\n\\t\\t\\t\\t\\tbackground-color: white;\\n\\t\\t\\t\\t\\tfont-family: sans-serif, serif;\\n\\t\\t\\t\\t}\\n\\n\\t\\t\\t\\t.holding{\\n\\t\\t\\t\\t\\tmargin: auto;\\n\\t\\t\\t\\t}\\n\\n\\t\\t\\t\\t.tight{\\n\\t\\t\\t\\t\\twidth: 70%;\\n\\t\\t\\t\\t}\\n\\n\\t\\t\\t\\t.way {\\n\\t\\t\\t\\t\\tposition: absolute;\\n\\t\\t\\t\\t\\ttop: 10px;\\n\\t\\t\\t\\t\\tleft: 10px;\\n\\t\\t\\t\\t}\\n\\t\\t\\t</style>\\n<div class=\"way\">\\n<a>cover</a>\\n</div>\\n<div class=\"holding tight\">\\n<h1 id=\"programming-languages-constructs-and-concepts\">programming languages: constructs and concepts</h1>\\n<h2 id=\"ravi-sethi\"><name></name></h2>\\n<h3 id=\"att-1996\">at&amp;t 1996</h3>\\n<hr/>\\n<p>essentially a fairly technical manual about the theories of programming languages. quite useful in determining the basics of “classical” programming language theory and practice.</p>\\n<hr/>\\n<h4 id=\"introduction\">1 - introduction</h4>\\n<p>First and foremost, the theoretical roots of PL are in maths, in formal notation, while its practical roots are in looming machines. It seems that the main thread that runs through the book (and perhaps PL research altogether?) is <em>lack of ambiguity</em>.</p>\\n<p>PL as notations are compared to English language, since they both have constructs of different types and different scales (sonnet, essay, note, etc.). To what extent are these constructs things that can be considered <em>patterns</em>? Because then aesthetic standards could be thought of as very narrow patterns.</p>\\n<p>On a different note, languages are only meaningful at the interface between the human and the machine (cf. Galloway, Thacker, <a>Language, life, code</a>). But that still doesn’t tell us if machines understand anything at all. The author seems to state that the computer only ever understands binary (quoting Goldstine, 1972).</p>\\n<blockquote>\\n<p>The art of programming is the art of organizing complexity (Djikstra)</p>\\n</blockquote>\\n<p>However, is that only the case for structured programming, and less so for imperative/functional/declarative programming? (Declarative programming looks fckn crazy)</p>\\n<h4 id=\"grammars\">2 - grammars</h4>\\n<p>introduced in 1958 by Algol 58, because they were <em>dissatisfied with the fact that subtle semantic questions remained unanswered due to a lack of clear description</em>. it then seems that the basics of PL are <strong>formal syntax</strong> and <strong>informal semantics</strong></p>\\n<table>\\n<thead>\\n<tr>\\n<th>syntax</th>\\n<th>semantics</th>\\n</tr>\\n</thead>\\n<tbody>\\n<tr>\\n<td>formal</td>\\n<td>informal</td>\\n</tr>\\n<tr>\\n<td>explicit</td>\\n<td>implicit</td>\\n</tr>\\n<tr>\\n<td>use</td>\\n<td>value/env</td>\\n</tr>\\n<tr>\\n<td>doing?</td>\\n<td>being?</td>\\n</tr>\\n<tr>\\n<td>known</td>\\n<td>predicted</td>\\n</tr>\\n<tr>\\n<td>given</td>\\n<td>extrapolated (from environment)</td>\\n</tr>\\n<tr>\\n<td>data procedures</td>\\n<td>data structures</td>\\n</tr>\\n</tbody>\\n</table>\\n<p>semantics imply how variables and functions “should” behave: the expectation is about the development of an external system (CPUs have, to an extent, already the ability to foresee their internal behaviour, see SPECTRE). there is also some aspect of context, of pre-existing knowledge. as such, each higher layer provides some context for the previous layer (assembly gives meaning to machine code, C gives meaning to assembly, Go gives meaning to C, etc.), and so do we reach a point where the programmer themselves are the context? is this where the magic happens (i.e. in the mind)</p>\\n<p>(implications of thesis: there is art in everything? or only in programming? that’s a longer work to verify <strong>OR</strong> you can only find it beautiful if you can understand it)</p>\\n<h4 id=\"semantics\">13 - semantics</h4>\\n<p>there is grammar to explain the syntax of a PL (e.g. BNF), and then there is English to explain its semantics. semantics in PL consist of <strong>values</strong> and <strong>environments</strong>.</p>\\n<p>fun fact: at some moment (p.515) they mention <em>pre</em>fix notation, <em>in</em>fix notation and <em>post</em>fix notation. when it doesn’t match, they call it <em>mix</em>fix notation (just for the sake of being able to categorize it all?)</p>\\n<p>so each programming language is made up of an abstract tree composed of terminals (tokens, values), non-terminals (procedures, expressions, statements) and production rules (how to get a non-terminal from a bunch of terminals).</p>\\n<p><code>look(x, nil)</code>, like staring into the abyss.</p>\\n<p>There are a bunch of ways to attach values to terminals:</p>\\n<ul>\\n<li>synthesized attributes</li>\\n<li>attribute grammars (eg. E.env, E.val)</li>\\n<li>operational semantics (e.g. env(E, val(E2)))</li>\\n<li>denotational semantics (e.g. [[E]] env == value of E inside environment env)</li>\\n<li>natural semantics (sets of logical rules, related to declarative programming)</li>\\n</ul>\\n<p>There are (at least) two different kinds of beauty:</p>\\n<ul>\\n<li>the beauty that works with Lisp and is featured in clean snippets of code in textbooks</li>\\n<li>the beauty of including the error-checking</li>\\n</ul>\\n<hr/>\\n<p>From <em>Programming Languages: Design and Implementation</em>, p.508:</p>\\n<blockquote>\\n<p>The difference among programming langauges are not quantitative differences in what can be done, by only qualitative differences in how elegantly, easily and effectively things can be done.</p>\\n</blockquote>\\n<p>Beautiful languages:</p>\\n<ul>\\n<li>clear semantics and syntactic structure</li>\\n<li>natural representation for problem data and algorithms (<strong>related to patterns</strong>)</li>\\n<li>ease of ex tension (<strong>related to patterns</strong>)</li>\\n<li>efficiency</li>\\n</ul>\\n</div>\\n</body>\\n</html>\\n',\n",
       "  'id': 1},\n",
       " {'text': '<html><head>\\n<title>npm</title>\\n<style>\\r\\nbody {\\r\\n    background-color: #ffffff;\\r\\n    color: #24292e;\\r\\n\\r\\n    margin: 0;\\r\\n\\r\\n    line-height: 1.5;\\r\\n\\r\\n    font-family: -apple-system, BlinkMacSystemFont, \"Segoe UI\", Helvetica, Arial, sans-serif, \"Apple Color Emoji\", \"Segoe UI Emoji\";\\r\\n}\\r\\n#rainbar {\\r\\n    height: 10px;\\r\\n    background-image: linear-gradient(139deg, #fb8817, #ff4b01, #c12127, #e02aff);\\r\\n}\\r\\n\\r\\na {\\r\\n    text-decoration: none;\\r\\n    color: #0366d6;\\r\\n}\\r\\na:hover {\\r\\n    text-decoration: underline;\\r\\n}\\r\\n\\r\\npre {\\r\\n    margin: 1em 0px;\\r\\n    padding: 1em;\\r\\n    border: solid 1px #e1e4e8;\\r\\n    border-radius: 6px;\\r\\n\\r\\n    display: block;\\r\\n    overflow: auto;\\r\\n\\r\\n    white-space: pre;\\r\\n\\r\\n    background-color: #f6f8fa;\\r\\n    color: #393a34;\\r\\n}\\r\\ncode {\\r\\n    font-family: SFMono-Regular, Consolas, \"Liberation Mono\", Menlo, Courier, monospace;\\r\\n    font-size: 85%;\\r\\n    padding: 0.2em 0.4em;\\r\\n    background-color: #f6f8fa;\\r\\n    color: #393a34;\\r\\n}\\r\\npre > code {\\r\\n    padding: 0;\\r\\n    background-color: inherit;\\r\\n    color: inherit;\\r\\n}\\r\\nh1, h2, h3 {\\r\\n    font-weight: 600;\\r\\n}\\r\\n\\r\\n#logobar {\\r\\n    background-color: #333333;\\r\\n    margin: 0 auto;\\r\\n    padding: 1em 4em;\\r\\n}\\r\\n#logobar .logo {\\r\\n    float: left;\\r\\n}\\r\\n#logobar .title {\\r\\n    font-weight: 600;\\r\\n    color: #dddddd;\\r\\n    float: left;\\r\\n    margin: 5px 0 0 1em;\\r\\n}\\r\\n#logobar:after {\\r\\n    content: \"\";\\r\\n    display: block;\\r\\n    clear: both;\\r\\n}\\r\\n\\r\\n#content {\\r\\n    margin: 0 auto;\\r\\n    padding: 0 4em;\\r\\n}\\r\\n\\r\\n#table_of_contents > h2 {\\r\\n    font-size: 1.17em;\\r\\n}\\r\\n#table_of_contents ul:first-child {\\r\\n    border: solid 1px #e1e4e8;\\r\\n    border-radius: 6px;\\r\\n    padding: 1em;\\r\\n    background-color: #f6f8fa;\\r\\n    color: #393a34;\\r\\n}\\r\\n#table_of_contents ul {\\r\\n    list-style-type: none;\\r\\n    padding-left: 1.5em;\\r\\n}\\r\\n#table_of_contents li {\\r\\n    font-size: 0.9em;\\r\\n}\\r\\n#table_of_contents li a {\\r\\n    color: #000000;\\r\\n}\\r\\n\\r\\nheader.title {\\r\\n    border-bottom: solid 1px #e1e4e8;\\r\\n}\\r\\nheader.title > h1 {\\r\\n    margin-bottom: 0.25em;\\r\\n}\\r\\nheader.title > .description {\\r\\n    display: block;\\r\\n    margin-bottom: 0.5em;\\r\\n    line-height: 1;\\r\\n}\\r\\n\\r\\nfooter#edit {\\r\\n    border-top: solid 1px #e1e4e8;\\r\\n    margin: 3em 0 4em 0;\\r\\n    padding-top: 2em;\\r\\n}\\r\\n</style>\\n</head>\\n<body>\\n<div id=\"banner\">\\n<div id=\"rainbar\"></div>\\n<div id=\"logobar\">\\n\\n<div class=\"title\">\\r\\nnpm command-line interface\\r\\n</div>\\n</div>\\n</div>\\n<section id=\"content\">\\n<header class=\"title\">\\n<h1 id=\"npm\">npm</h1>\\n<span class=\"description\">javascript package manager</span>\\n</header>\\n<section id=\"table_of_contents\">\\n<h2 id=\"table-of-contents\">Table of contents</h2>\\n<div id=\"_table_of_contents\"><ul><li><a>Synopsis</a></li><li><a>Version</a></li><li><a>Description</a></li><li><a>Important</a></li><li><a>Introduction</a></li><li><a>Dependencies</a></li><li><a>Directories</a></li><li><a>Developer Usage</a></li><ul><li><a>Configuration</a></li></ul><li><a>Contributions</a></li><li><a>Bugs</a></li><li><a>Feature Requests</a></li><li><a>See Also</a></li></ul></div>\\n</section>\\n<div id=\"_content\"><h3 id=\"synopsis\">Synopsis</h3>\\n<pre lang=\"bash\"><code>npm &lt;command&gt; [args]\\r\\n</code></pre>\\n<h3 id=\"version\">Version</h3>\\n<p>8.1.2</p>\\n<h3 id=\"description\">Description</h3>\\n<p>npm is the package manager for the Node JavaScript platform.  It puts\\r\\nmodules in place so that node can find them, and manages dependency\\r\\nconflicts intelligently.</p>\\n<p>It is extremely configurable to support a variety of use cases.  Most\\r\\ncommonly, you use it to publish, discover, install, and develop node\\r\\nprograms.</p>\\n<p>Run <code>npm help</code> to get a list of available commands.</p>\\n<h3 id=\"important\">Important</h3>\\n<p>npm comes preconfigured to use npm’s public registry at\\r\\n<a>https://registry.npmjs.org</a> by default. Use of the npm public registry is\\r\\nsubject to terms of use available at\\r\\n<a>https://docs.npmjs.com/policies/terms</a>.</p>\\n<p>You can configure npm to use any compatible registry you like, and even\\r\\nrun your own registry. Use of someone else’s registry is governed by\\r\\ntheir terms of use.</p>\\n<h3 id=\"introduction\">Introduction</h3>\\n<p>You probably got npm because you want to install stuff.</p>\\n<p>The very first thing you will most likely want to run in any node\\r\\nprogram is <code>npm install</code> to install its dependencies.</p>\\n<p>You can also run <code>npm install blerg</code> to install the latest version of\\r\\n“blerg”.  Check out <a><code>npm install</code></a> for more\\r\\ninfo.  It can do a lot of stuff.</p>\\n<p>Use the <code>npm search</code> command to show everything that’s available in the\\r\\npublic registry.  Use <code>npm ls</code> to show everything you’ve installed.</p>\\n<h3 id=\"dependencies\">Dependencies</h3>\\n<p>If a package lists a dependency using a git URL, npm will install that\\r\\ndependency using the <a><code>git</code></a>\\r\\ncommand and will generate an error if it is not installed.</p>\\n<p>If one of the packages npm tries to install is a native node module and\\r\\nrequires compiling of C++ Code, npm will use\\r\\n<a>node-gyp</a> for that task.\\r\\nFor a Unix system, <a>node-gyp</a>\\r\\nneeds Python, make and a buildchain like GCC. On Windows,\\r\\nPython and Microsoft Visual Studio C++ are needed. For more information\\r\\nvisit <a>the node-gyp repository</a> and\\r\\nthe <a>node-gyp Wiki</a>.</p>\\n<h3 id=\"directories\">Directories</h3>\\n<p>See <a><code>folders</code></a> to learn about where npm puts\\r\\nstuff.</p>\\n<p>In particular, npm has two modes of operation:</p>\\n<ul>\\n<li>local mode:\\r\\nnpm installs packages into the current project directory, which\\r\\ndefaults to the current working directory.  Packages install to\\r\\n<code>./node_modules</code>, and bins to <code>./node_modules/.bin</code>.</li>\\n<li>global mode:\\r\\nnpm installs packages into the install prefix at\\r\\n<code>$npm_config_prefix/lib/node_modules</code> and bins to\\r\\n<code>$npm_config_prefix/bin</code>.</li>\\n</ul>\\n<p>Local mode is the default.  Use <code>-g</code> or <code>--global</code> on any command to\\r\\nrun in global mode instead.</p>\\n<h3 id=\"developer-usage\">Developer Usage</h3>\\n<p>If you’re using npm to develop and publish your code, check out the\\r\\nfollowing help topics:</p>\\n<ul>\\n<li>json:\\r\\nMake a package.json file.  See\\r\\n<a><code>package.json</code></a>.</li>\\n<li>link:\\r\\nLinks your current working code into Node’s path, so that you don’t\\r\\nhave to reinstall every time you make a change.  Use <a><code>npm link</code></a> to do this.</li>\\n<li>install:\\r\\nIt’s a good idea to install things if you don’t need the symbolic\\r\\nlink.  Especially, installing other peoples code from the registry is\\r\\ndone via <a><code>npm install</code></a></li>\\n<li>adduser:\\r\\nCreate an account or log in.  When you do this, npm will store\\r\\ncredentials in the user config file config file.</li>\\n<li>publish:\\r\\nUse the <a><code>npm publish</code></a> command to upload your\\r\\ncode to the registry.</li>\\n</ul>\\n<h4 id=\"configuration\">Configuration</h4>\\n<p>npm is extremely configurable.  It reads its configuration options from\\r\\n5 places.</p>\\n<ul>\\n<li>Command line switches:\\r\\nSet a config with <code>--key val</code>.  All keys take a value, even if they\\r\\nare booleans (the config parser doesn’t know what the options are at\\r\\nthe time of parsing).  If you do not provide a value (<code>--key</code>) then\\r\\nthe option is set to boolean <code>true</code>.</li>\\n<li>Environment Variables:\\r\\nSet any config by prefixing the name in an environment variable with\\r\\n<code>npm_config_</code>.  For example, <code>export npm_config_key=val</code>.</li>\\n<li>User Configs:\\r\\nThe file at <code>$HOME/.npmrc</code> is an ini-formatted list of configs.  If\\r\\npresent, it is parsed.  If the <code>userconfig</code> option is set in the cli\\r\\nor env, that file will be used instead.</li>\\n<li>Global Configs:\\r\\nThe file found at <code>./etc/npmrc</code> (relative to the global prefix will be\\r\\nparsed if it is found.  See <a><code>npm prefix</code></a> for\\r\\nmore info on the global prefix.  If the <code>globalconfig</code> option is set\\r\\nin the cli, env, or user config, then that file is parsed instead.</li>\\n<li>Defaults:\\r\\nnpm’s default configuration options are defined in\\r\\nlib/utils/config-defs.js.  These must not be changed.</li>\\n</ul>\\n<p>See <a><code>config</code></a> for much much more information.</p>\\n<h3 id=\"contributions\">Contributions</h3>\\n<p>Patches welcome!</p>\\n<p>If you would like to help, but don’t know what to work on, read the\\r\\n<a>contributing\\r\\nguidelines</a> and\\r\\ncheck the issues list.</p>\\n<h3 id=\"bugs\">Bugs</h3>\\n<p>When you find issues, please report them:\\r\\n<a>https://github.com/npm/cli/issues</a></p>\\n<p>Please be sure to follow the template and bug reporting guidelines.</p>\\n<h3 id=\"feature-requests\">Feature Requests</h3>\\n<p>Discuss new feature ideas on our discussion forum:</p>\\n<ul>\\n<li><a>https://github.com/npm/feedback</a></li>\\n</ul>\\n<p>Or suggest formal RFC proposals:</p>\\n<ul>\\n<li><a>https://github.com/npm/rfcs</a></li>\\n</ul>\\n<h3 id=\"see-also\">See Also</h3>\\n<ul>\\n<li><a>npm help</a></li>\\n<li><a>package.json</a></li>\\n<li><a>npmrc</a></li>\\n<li><a>npm config</a></li>\\n<li><a>npm install</a></li>\\n<li><a>npm prefix</a></li>\\n<li><a>npm publish</a></li>\\n</ul>\\n</div>\\n<footer id=\"edit\">\\n<a>\\n\\r\\nEdit this page on GitHub\\r\\n</a>\\n</footer>\\n</section>\\n</body></html>',\n",
       "  'id': 2}]"
      ]
     },
     "execution_count": 12,
     "metadata": {},
     "output_type": "execute_result"
    }
   ],
   "source": [
    "for index, item in enumerate(merged_data, start=1):  \n",
    "    item['id'] = index \n",
    "merged_data[:2]"
   ]
  },
  {
   "cell_type": "code",
   "execution_count": 13,
   "metadata": {},
   "outputs": [
    {
     "name": "stdout",
     "output_type": "stream",
     "text": [
      "添加 ID 完成，输出文件为: /mnt/unilm/shaohanh/data/code/purehtml_v4/merged.jsonl\n"
     ]
    }
   ],
   "source": [
    "# 输出文件路径  \n",
    "directory_path = '/mnt/unilm/shaohanh/data/code/purehtml_v4'  \n",
    "output_file_path = os.path.join(directory_path, 'merged.jsonl')  \n",
    "  \n",
    "# 将带有 ID 的数据写入输出文件  \n",
    "with open(output_file_path, 'w') as outfile:  \n",
    "    for item in merged_data:  \n",
    "        # 将 Python 对象转为 JSON 字符串并写入文件，每个对象一行  \n",
    "        outfile.write(json.dumps(item) + '\\n')  \n",
    "  \n",
    "print(f\"添加 ID 完成，输出文件为: {output_file_path}\")  "
   ]
  },
  {
   "cell_type": "code",
<<<<<<< HEAD
   "execution_count": 1,
   "metadata": {},
   "outputs": [
    {
     "data": {
      "text/plain": [
       "14527"
      ]
     },
     "execution_count": 1,
     "metadata": {},
     "output_type": "execute_result"
    }
   ],
   "source": [
    "import json\n",
    "html_data_path = \"/mnt/unilm/shaohanh/data/code/purehtml_v4/merged.jsonl\" \n",
    "with open(html_data_path, \"r\") as f:\n",
    "    html_data = [json.loads(line) for line in f]\n",
    "len(html_data)"
   ]
  },
  {
   "cell_type": "code",
   "execution_count": 3,
   "metadata": {},
   "outputs": [
    {
     "data": {
      "text/plain": [
       "[{'text': '\\n<!DOCTYPE html>\\n\\n<html>\\n<head>\\n<meta charset=\"utf-8\"/>\\n<title>works in public</title>\\n<link href=\"style.css\" rel=\"stylesheet\"/>\\n</head>\\n<body>\\n<style>\\n\\t\\t\\t\\tbody {\\n\\t\\t\\t\\t\\tbackground-color: white;\\n\\t\\t\\t\\t\\tfont-family: sans-serif, serif;\\n\\t\\t\\t\\t}\\n\\n\\t\\t\\t\\t.holding{\\n\\t\\t\\t\\t\\tmargin: auto;\\n\\t\\t\\t\\t}\\n\\n\\t\\t\\t\\t.tight{\\n\\t\\t\\t\\t\\twidth: 70%;\\n\\t\\t\\t\\t}\\n\\n\\t\\t\\t\\t.way {\\n\\t\\t\\t\\t\\tposition: absolute;\\n\\t\\t\\t\\t\\ttop: 10px;\\n\\t\\t\\t\\t\\tleft: 10px;\\n\\t\\t\\t\\t}\\n\\t\\t\\t</style>\\n<div class=\"way\">\\n<a>cover</a>\\n</div>\\n<div class=\"holding tight\">\\n<h1 id=\"programming-languages-constructs-and-concepts\">programming languages: constructs and concepts</h1>\\n<h2 id=\"ravi-sethi\"><name></name></h2>\\n<h3 id=\"att-1996\">at&amp;t 1996</h3>\\n<hr/>\\n<p>essentially a fairly technical manual about the theories of programming languages. quite useful in determining the basics of “classical” programming language theory and practice.</p>\\n<hr/>\\n<h4 id=\"introduction\">1 - introduction</h4>\\n<p>First and foremost, the theoretical roots of PL are in maths, in formal notation, while its practical roots are in looming machines. It seems that the main thread that runs through the book (and perhaps PL research altogether?) is <em>lack of ambiguity</em>.</p>\\n<p>PL as notations are compared to English language, since they both have constructs of different types and different scales (sonnet, essay, note, etc.). To what extent are these constructs things that can be considered <em>patterns</em>? Because then aesthetic standards could be thought of as very narrow patterns.</p>\\n<p>On a different note, languages are only meaningful at the interface between the human and the machine (cf. Galloway, Thacker, <a>Language, life, code</a>). But that still doesn’t tell us if machines understand anything at all. The author seems to state that the computer only ever understands binary (quoting Goldstine, 1972).</p>\\n<blockquote>\\n<p>The art of programming is the art of organizing complexity (Djikstra)</p>\\n</blockquote>\\n<p>However, is that only the case for structured programming, and less so for imperative/functional/declarative programming? (Declarative programming looks fckn crazy)</p>\\n<h4 id=\"grammars\">2 - grammars</h4>\\n<p>introduced in 1958 by Algol 58, because they were <em>dissatisfied with the fact that subtle semantic questions remained unanswered due to a lack of clear description</em>. it then seems that the basics of PL are <strong>formal syntax</strong> and <strong>informal semantics</strong></p>\\n<table>\\n<thead>\\n<tr>\\n<th>syntax</th>\\n<th>semantics</th>\\n</tr>\\n</thead>\\n<tbody>\\n<tr>\\n<td>formal</td>\\n<td>informal</td>\\n</tr>\\n<tr>\\n<td>explicit</td>\\n<td>implicit</td>\\n</tr>\\n<tr>\\n<td>use</td>\\n<td>value/env</td>\\n</tr>\\n<tr>\\n<td>doing?</td>\\n<td>being?</td>\\n</tr>\\n<tr>\\n<td>known</td>\\n<td>predicted</td>\\n</tr>\\n<tr>\\n<td>given</td>\\n<td>extrapolated (from environment)</td>\\n</tr>\\n<tr>\\n<td>data procedures</td>\\n<td>data structures</td>\\n</tr>\\n</tbody>\\n</table>\\n<p>semantics imply how variables and functions “should” behave: the expectation is about the development of an external system (CPUs have, to an extent, already the ability to foresee their internal behaviour, see SPECTRE). there is also some aspect of context, of pre-existing knowledge. as such, each higher layer provides some context for the previous layer (assembly gives meaning to machine code, C gives meaning to assembly, Go gives meaning to C, etc.), and so do we reach a point where the programmer themselves are the context? is this where the magic happens (i.e. in the mind)</p>\\n<p>(implications of thesis: there is art in everything? or only in programming? that’s a longer work to verify <strong>OR</strong> you can only find it beautiful if you can understand it)</p>\\n<h4 id=\"semantics\">13 - semantics</h4>\\n<p>there is grammar to explain the syntax of a PL (e.g. BNF), and then there is English to explain its semantics. semantics in PL consist of <strong>values</strong> and <strong>environments</strong>.</p>\\n<p>fun fact: at some moment (p.515) they mention <em>pre</em>fix notation, <em>in</em>fix notation and <em>post</em>fix notation. when it doesn’t match, they call it <em>mix</em>fix notation (just for the sake of being able to categorize it all?)</p>\\n<p>so each programming language is made up of an abstract tree composed of terminals (tokens, values), non-terminals (procedures, expressions, statements) and production rules (how to get a non-terminal from a bunch of terminals).</p>\\n<p><code>look(x, nil)</code>, like staring into the abyss.</p>\\n<p>There are a bunch of ways to attach values to terminals:</p>\\n<ul>\\n<li>synthesized attributes</li>\\n<li>attribute grammars (eg. E.env, E.val)</li>\\n<li>operational semantics (e.g. env(E, val(E2)))</li>\\n<li>denotational semantics (e.g. [[E]] env == value of E inside environment env)</li>\\n<li>natural semantics (sets of logical rules, related to declarative programming)</li>\\n</ul>\\n<p>There are (at least) two different kinds of beauty:</p>\\n<ul>\\n<li>the beauty that works with Lisp and is featured in clean snippets of code in textbooks</li>\\n<li>the beauty of including the error-checking</li>\\n</ul>\\n<hr/>\\n<p>From <em>Programming Languages: Design and Implementation</em>, p.508:</p>\\n<blockquote>\\n<p>The difference among programming langauges are not quantitative differences in what can be done, by only qualitative differences in how elegantly, easily and effectively things can be done.</p>\\n</blockquote>\\n<p>Beautiful languages:</p>\\n<ul>\\n<li>clear semantics and syntactic structure</li>\\n<li>natural representation for problem data and algorithms (<strong>related to patterns</strong>)</li>\\n<li>ease of ex tension (<strong>related to patterns</strong>)</li>\\n<li>efficiency</li>\\n</ul>\\n</div>\\n</body>\\n</html>\\n',\n",
       "  'id': 1}]"
      ]
     },
     "execution_count": 3,
     "metadata": {},
     "output_type": "execute_result"
    }
   ],
   "source": [
    "html_data[:1]"
   ]
  },
  {
   "cell_type": "code",
   "execution_count": 8,
   "metadata": {},
   "outputs": [
    {
     "name": "stdout",
     "output_type": "stream",
     "text": [
      "替换完成，结果已保存到 '/mnt/lingjiejiang/multimodal_code/data/github_html_v4/githubv4_img_rick.json'\n"
     ]
    }
   ],
   "source": [
    "import json  \n",
    "import re  \n",
    "  \n",
    "# 读取 JSON 文件  \n",
    "html_data_path = \"/mnt/unilm/shaohanh/data/code/purehtml_v4/merged.jsonl\" \n",
    "with open(html_data_path, \"r\") as f:\n",
    "    html_data = [json.loads(line) for line in f]\n",
    "  \n",
    "# 定义替换函数  \n",
    "def replace_img_src(content):  \n",
    "    # 正则表达式匹配 <img> 标签中的 src 属性  \n",
    "    pattern = r'(<img\\s+[^>]*src=\")([^\"]*\\.(png|jpg))(\")'  \n",
    "    # 替换为 rick.jpg  \n",
    "    return re.sub(pattern, r'\\1rick.jpg\\4', content)  \n",
    "  \n",
    "# 遍历数据，进行替换  \n",
    "for item in html_data:  \n",
    "    item[\"text\"] = replace_img_src(item[\"text\"].strip())\n",
    "    item[\"images\"] = f\"/mnt/lingjiejiang/multimodal_code/data/github_html_v4/new_images/{item['id']}.png\"\n",
    "\n",
    "\n",
    "\n",
    "# # # 保存修改后的数据到新文件  \n",
    "with open(\"/mnt/lingjiejiang/multimodal_code/data/github_html_v4/githubv4_img_rick.json\", 'w') as file:  \n",
    "    json.dump(html_data, file, indent=4, ensure_ascii=False)  \n",
    "  \n",
    "print(\"替换完成，结果已保存到 '/mnt/lingjiejiang/multimodal_code/data/github_html_v4/githubv4_img_rick.json'\")  "
   ]
  },
  {
   "cell_type": "code",
   "execution_count": 9,
   "metadata": {},
   "outputs": [
    {
     "data": {
      "text/plain": [
       "14527"
      ]
     },
     "execution_count": 9,
     "metadata": {},
     "output_type": "execute_result"
    }
   ],
   "source": [
    "\n",
    "with open(\"/mnt/lingjiejiang/multimodal_code/data/github_html_v4/githubv4_img_rick.json\", \"r\") as f:\n",
    "    data = json.load(f)\n",
    "len(data)"
   ]
  },
  {
   "cell_type": "code",
   "execution_count": null,
   "metadata": {},
   "outputs": [
    {
     "data": {
      "text/plain": [
       "14527"
      ]
     },
     "execution_count": 1,
     "metadata": {},
     "output_type": "execute_result"
    }
   ],
   "source": [
    "import json\n",
    "with open(\"/mnt/lingjiejiang/multimodal_code/data/github_html_v4/intermediate_results/final_output.json\", \"r\") as f:\n",
    "    data = json.load(f)\n",
    "len(data)"
   ]
  },
  {
   "cell_type": "code",
   "execution_count": 3,
   "metadata": {},
   "outputs": [
    {
     "name": "stdout",
     "output_type": "stream",
     "text": [
      "Score 0: 64\n",
      "Score 1: 1\n",
      "Score 2: 86\n",
      "Score 3: 399\n",
      "Score 4: 2303\n",
      "Score 5: 2607\n",
      "Score 6: 7138\n",
      "Score 7: 1905\n",
      "Score 8: 24\n",
      "Score 9: 0\n",
      "Score 10: 0\n"
     ]
    }
   ],
   "source": [
    "from collections import Counter\n",
    "# 初始化计数器  \n",
    "score_counter = Counter()  \n",
    "  \n",
    "# 遍历数据并计数 gpt4score  \n",
    "for item in data:  \n",
    "    score = item.get('gpt4score')  \n",
    "    if score is not None and 0 <= score <= 10:  \n",
    "        score_counter[score] += 1  \n",
    "  \n",
    "# 输出结果  \n",
    "for score in range(11):  # 包括0到10的所有整数  \n",
    "    print(f\"Score {score}: {score_counter.get(score, 0)}\")  "
   ]
  },
  {
   "cell_type": "code",
   "execution_count": 5,
   "metadata": {},
   "outputs": [],
   "source": [
    "high_score_data = [item for item in data if item.get('gpt4score') == 8]\n",
    "len(high_score_data)\n",
    "with open(\"high_score_data.json\", \"w\") as f:\n",
    "    json.dump(high_score_data, f, indent=4, ensure_ascii=False)"
   ]
  },
  {
   "cell_type": "code",
   "execution_count": 6,
   "metadata": {},
   "outputs": [
    {
     "data": {
      "text/plain": [
       "[{'text': '<!DOCTYPE html>\\n\\n<html>\\n<head>\\n<title>Please Participate in Our Survey!</title>\\n\\n<link href=\"style.css\" rel=\"stylesheet\" type=\"text/css\"/>\\n<style>\\n    body {\\n  background-color: #FFF;\\n  margin: 0 auto;\\n}\\n\\nheader {\\n  background-color: #466995;\\n  border-bottom: 1px solid #466995;\\n  position: fixed;\\n  width: 100%;\\n  z-index: 10;\\n}\\n\\nul {\\n  margin: 30px auto;\\n  padding: 0 20px;\\n  text-align: center;\\n}\\n\\nli {\\n  color: #FFF;\\n  font-family: \\'Oswald\\', sans-serif;\\n  font-size: 16px;\\n  font-weight: 300;\\n  text-transform: uppercase;\\n  display: inline-block;\\n  width: 80px;\\n}\\n\\nli:hover {\\n  color: #DBE9EE;\\n}\\n\\nh1 {\\n  color: #466995;\\n  font-family: \\'Oswald\\', sans-serif;\\n  font-size: 32px;\\n  font-weight: 300;\\n  text-transform: uppercase;\\n}\\n\\nh2 {\\n  color: #333;\\n  font-family: \\'Varela Round\\', sans-serif;\\n  font-size: 26px;\\n  font-weight: 100;\\n  margin: 0 auto 20px auto;\\n}\\n\\nh3 {\\n  color: #466995;\\n  font-family: \\'Oswald\\', sans-serif;\\n  font-size: 18px;\\n  text-align: center;\\n  font-weight: 700;\\n  text-transform: uppercase;\\n  padding: 30px;\\n}\\n\\nh4 {\\n  color: #466995;\\n  font-family: \\'Oswald\\', sans-serif;\\n  font-size: 18px;\\n  font-weight: 300;\\n  letter-spacing: 2px;\\n  text-align: center;\\n  text-transform: uppercase\\n}\\n\\np {\\n  color: #333;\\n  font-family: \\'Varela Round\\', sans-serif;\\n  font-size: 18px;\\n}\\n\\nfooter {\\n  background-color: #DBE9EE;\\n  text-align: center;\\n}\\n\\n.welcome {\\n  background-color: #DBE9EE;\\n  box-sizing: border-box;\\n  padding: 40px;\\n  text-align: center;\\n  width: 100%;\\n  position: relative;\\n  top: 50px;\\n}\\n\\n.question {\\n  text-align: center;\\n  position: relative;\\n  top: 40px;\\n}\\n\\n.answer {\\n  border: 1px solid #466995;\\n  margin: 20px;\\n  display: inline-block;\\n}\\n\\n.answer:hover {\\n  background: #C0D6DF;\\n  color: #FFF;\\n}\\n\\nfooter {\\n  height: 100px;\\n}\\n  </style>\\n</head>\\n<body>\\n<header>\\n<ul>\\n<li>Question 1</li>\\n<li>Question 2</li>\\n<li>Question 3</li>\\n<li>Question 4</li>\\n<li>Question 5</li>\\n</ul>\\n</header>\\n<div class=\"welcome\">\\n<h1><strong>Welcome</strong> to our survey!</h1>\\n<p>We\\'re looking forward to getting your answers so we can make sure our products and services are the best they can be!</p>\\n</div>\\n<div class=\"question\">\\n<h4>Question 1</h4>\\n<h2>I like participating in physical activity such as running, swimming, or biking.</h2>\\n<div class=\"answer\">\\n<h3>Disagree</h3>\\n</div>\\n<div class=\"answer\">\\n<h3>Neutral</h3>\\n</div>\\n<div class=\"answer\">\\n<h3>Agree</h3>\\n</div>\\n</div>\\n<div class=\"question\">\\n<h4>Question 2</h4>\\n<h2>I try to keep up to date with the latest fashion in active wear.</h2>\\n<div class=\"answer\">\\n<h3>Disagree</h3>\\n</div>\\n<div class=\"answer\">\\n<h3>Neutral</h3>\\n</div>\\n<div class=\"answer\">\\n<h3>Agree</h3>\\n</div>\\n</div>\\n<div class=\"question\">\\n<h4>Question 3</h4>\\n<h2>I purchase clothing online regularly.</h2>\\n<div class=\"answer\">\\n<h3>Disagree</h3>\\n</div>\\n<div class=\"answer\">\\n<h3>Neutral</h3>\\n</div>\\n<div class=\"answer\">\\n<h3>Agree</h3>\\n</div>\\n</div>\\n<div class=\"question\">\\n<h4>Question 4</h4>\\n<h2>I try to buy goods that are designed and/or manufactured in my home country.</h2>\\n<div class=\"answer\">\\n<h3>Disagree</h3>\\n</div>\\n<div class=\"answer\">\\n<h3>Neutral</h3>\\n</div>\\n<div class=\"answer\">\\n<h3>Agree</h3>\\n</div>\\n</div>\\n<div class=\"question\">\\n<h4>Question 5</h4>\\n<h2>I look to famous athletes when trying to choose what to wear when training.</h2>\\n<div class=\"answer\">\\n<h3>Disagree</h3>\\n</div>\\n<div class=\"answer\">\\n<h3>Neutral</h3>\\n</div>\\n<div class=\"answer\">\\n<h3>Agree</h3>\\n</div>\\n</div>\\n<footer>\\n<h3>Thanks for taking our survey!</h3>\\n</footer>\\n</body>\\n</html>',\n",
       "  'id': 526,\n",
       "  'images': '/mnt/lingjiejiang/multimodal_code/data/github_html_v4/new_images/526.png',\n",
       "  'gpt4score': 8,\n",
       "  'gptresponse': 'Final Score: 8'},\n",
       " {'text': '<html>\\n<head>\\n<title>npm</title>\\n<style>\\nbody {\\n    background-color: #ffffff;\\n    color: #24292e;\\n\\n    margin: 0;\\n\\n    line-height: 1.5;\\n\\n    font-family: -apple-system, BlinkMacSystemFont, \"Segoe UI\", Helvetica, Arial, sans-serif, \"Apple Color Emoji\", \"Segoe UI Emoji\";\\n}\\n#rainbar {\\n    height: 10px;\\n    background-image: linear-gradient(139deg, #fb8817, #ff4b01, #c12127, #e02aff);\\n}\\n\\na {\\n    text-decoration: none;\\n    color: #0366d6;\\n}\\na:hover {\\n    text-decoration: underline;\\n}\\n\\npre {\\n    margin: 1em 0px;\\n    padding: 1em;\\n    border: solid 1px #e1e4e8;\\n    border-radius: 6px;\\n\\n    display: block;\\n    overflow: auto;\\n\\n    white-space: pre;\\n\\n    background-color: #f6f8fa;\\n    color: #393a34;\\n}\\ncode {\\n    font-family: SFMono-Regular, Consolas, \"Liberation Mono\", Menlo, Courier, monospace;\\n    font-size: 85%;\\n    padding: 0.2em 0.4em;\\n    background-color: #f6f8fa;\\n    color: #393a34;\\n}\\npre > code {\\n    padding: 0;\\n    background-color: inherit;\\n    color: inherit;\\n}\\nh1, h2, h3 {\\n    font-weight: 600;\\n}\\n\\n#logobar {\\n    background-color: #333333;\\n    margin: 0 auto;\\n    padding: 1em 4em;\\n}\\n#logobar .logo {\\n    float: left;\\n}\\n#logobar .title {\\n    font-weight: 600;\\n    color: #dddddd;\\n    float: left;\\n    margin: 5px 0 0 1em;\\n}\\n#logobar:after {\\n    content: \"\";\\n    display: block;\\n    clear: both;\\n}\\n\\n#content {\\n    margin: 0 auto;\\n    padding: 0 4em;\\n}\\n\\n#table_of_contents > h2 {\\n    font-size: 1.17em;\\n}\\n#table_of_contents ul:first-child {\\n    border: solid 1px #e1e4e8;\\n    border-radius: 6px;\\n    padding: 1em;\\n    background-color: #f6f8fa;\\n    color: #393a34;\\n}\\n#table_of_contents ul {\\n    list-style-type: none;\\n    padding-left: 1.5em;\\n}\\n#table_of_contents li {\\n    font-size: 0.9em;\\n}\\n#table_of_contents li a {\\n    color: #000000;\\n}\\n\\nheader.title {\\n    border-bottom: solid 1px #e1e4e8;\\n}\\nheader.title > h1 {\\n    margin-bottom: 0.25em;\\n}\\nheader.title > .description {\\n    display: block;\\n    margin-bottom: 0.5em;\\n    line-height: 1;\\n}\\n\\nfooter#edit {\\n    border-top: solid 1px #e1e4e8;\\n    margin: 3em 0 4em 0;\\n    padding-top: 2em;\\n}\\n\\n    </style>\\n</head>\\n<body>\\n<div id=\"banner\">\\n<div id=\"rainbar\"></div>\\n<div id=\"logobar\">\\n\\n<div class=\"title\">\\n            npm command-line interface\\n        </div>\\n</div>\\n</div>\\n<section id=\"content\">\\n<header class=\"title\">\\n<h1 id=\"npm\">npm</h1>\\n<span class=\"description\">javascript package manager</span>\\n</header>\\n<section id=\"table_of_contents\">\\n<h2 id=\"table-of-contents\">Table of contents</h2>\\n<div id=\"_table_of_contents\">\\n<ul>\\n<li><a>Synopsis</a></li>\\n<li><a>Version</a></li>\\n<li><a>Description</a></li>\\n<li><a>Important</a></li>\\n<li><a>Introduction</a></li>\\n<li><a>Dependencies</a></li>\\n<li><a>Directories</a></li>\\n<li><a>Developer Usage</a></li>\\n<ul>\\n<li><a>Configuration</a></li>\\n</ul>\\n<li><a>Contributions</a></li>\\n<li><a>Bugs</a></li>\\n<li><a>Feature Requests</a></li>\\n<li><a>See Also</a></li>\\n</ul>\\n</div>\\n</section>\\n<div id=\"_content\"><h3 id=\"synopsis\">Synopsis</h3>\\n<pre lang=\"bash\"><code>npm &lt;command&gt; [args]\\n</code></pre>\\n<h3 id=\"version\">Version</h3>\\n<p>7.21.1</p>\\n<h3 id=\"description\">Description</h3>\\n<p>npm is the package manager for the Node JavaScript platform. It puts\\n            modules in place so that node can find them, and manages dependency\\n            conflicts intelligently.</p>\\n<p>It is extremely configurable to support a variety of use cases. Most\\n            commonly, you use it to publish, discover, install, and develop node\\n            programs.</p>\\n<p>Run <code>npm help</code> to get a list of available commands.</p>\\n<h3 id=\"important\">Important</h3>\\n<p>npm comes preconfigured to use npm’s public registry at\\n            <a>https://registry.npmjs.org</a> by default. Use of the npm public\\n            registry is\\n            subject to terms of use available at\\n            <a>https://docs.npmjs.com/policies/terms</a>.</p>\\n<p>You can configure npm to use any compatible registry you like, and even\\n            run your own registry. Use of someone else’s registry is governed by\\n            their terms of use.</p>\\n<h3 id=\"introduction\">Introduction</h3>\\n<p>You probably got npm because you want to install stuff.</p>\\n<p>The very first thing you will most likely want to run in any node\\n            program is <code>npm install</code> to install its dependencies.</p>\\n<p>You can also run <code>npm install blerg</code> to install the latest version of\\n            “blerg”. Check out <a><code>npm install</code></a> for more\\n            info. It can do a lot of stuff.</p>\\n<p>Use the <code>npm search</code> command to show everything that’s available in the\\n            public registry. Use <code>npm ls</code> to show everything you’ve installed.</p>\\n<h3 id=\"dependencies\">Dependencies</h3>\\n<p>If a package lists a dependency using a git URL, npm will install that\\n            dependency using the <a><code>git</code></a>\\n            command and will generate an error if it is not installed.</p>\\n<p>If one of the packages npm tries to install is a native node module and\\n            requires compiling of C++ Code, npm will use\\n            <a>node-gyp</a> for that task.\\n            For a Unix system, <a>node-gyp</a>\\n            needs Python, make and a buildchain like GCC. On Windows,\\n            Python and Microsoft Visual Studio C++ are needed. For more information\\n            visit <a>the node-gyp repository</a> and\\n            the <a>node-gyp Wiki</a>.</p>\\n<h3 id=\"directories\">Directories</h3>\\n<p>See <a><code>folders</code></a> to learn about where npm puts\\n            stuff.</p>\\n<p>In particular, npm has two modes of operation:</p>\\n<ul>\\n<li>local mode:\\n                npm installs packages into the current project directory, which\\n                defaults to the current working directory. Packages install to\\n                <code>./node_modules</code>, and bins to <code>./node_modules/.bin</code>.\\n            </li>\\n<li>global mode:\\n                npm installs packages into the install prefix at\\n                <code>$npm_config_prefix/lib/node_modules</code> and bins to\\n                <code>$npm_config_prefix/bin</code>.\\n            </li>\\n</ul>\\n<p>Local mode is the default. Use <code>-g</code> or <code>--global</code> on any command to\\n            run in global mode instead.</p>\\n<h3 id=\"developer-usage\">Developer Usage</h3>\\n<p>If you’re using npm to develop and publish your code, check out the\\n            following help topics:</p>\\n<ul>\\n<li>json:\\n                Make a package.json file. See\\n                <a><code>package.json</code></a>.\\n            </li>\\n<li>link:\\n                Links your current working code into Node’s path, so that you don’t\\n                have to reinstall every time you make a change. Use <a><code>npm\\n                    link</code></a> to do this.\\n            </li>\\n<li>install:\\n                It’s a good idea to install things if you don’t need the symbolic\\n                link. Especially, installing other peoples code from the registry is\\n                done via <a><code>npm install</code></a></li>\\n<li>adduser:\\n                Create an account or log in. When you do this, npm will store\\n                credentials in the user config file config file.\\n            </li>\\n<li>publish:\\n                Use the <a><code>npm publish</code></a> command to upload your\\n                code to the registry.\\n            </li>\\n</ul>\\n<h4 id=\"configuration\">Configuration</h4>\\n<p>npm is extremely configurable. It reads its configuration options from\\n            5 places.</p>\\n<ul>\\n<li>Command line switches:\\n                Set a config with <code>--key val</code>. All keys take a value, even if they\\n                are booleans (the config parser doesn’t know what the options are at\\n                the time of parsing). If you do not provide a value (<code>--key</code>) then\\n                the option is set to boolean <code>true</code>.\\n            </li>\\n<li>Environment Variables:\\n                Set any config by prefixing the name in an environment variable with\\n                <code>npm_config_</code>. For example, <code>export npm_config_key=val</code>.\\n            </li>\\n<li>User Configs:\\n                The file at <code>$HOME/.npmrc</code> is an ini-formatted list of configs. If\\n                present, it is parsed. If the <code>userconfig</code> option is set in the cli\\n                or env, that file will be used instead.\\n            </li>\\n<li>Global Configs:\\n                The file found at <code>./etc/npmrc</code> (relative to the global prefix will be\\n                parsed if it is found. See <a><code>npm prefix</code></a> for\\n                more info on the global prefix. If the <code>globalconfig</code> option is set\\n                in the cli, env, or user config, then that file is parsed instead.\\n            </li>\\n<li>Defaults:\\n                npm’s default configuration options are defined in\\n                lib/utils/config-defs.js. These must not be changed.\\n            </li>\\n</ul>\\n<p>See <a><code>config</code></a> for much much more information.</p>\\n<h3 id=\"contributions\">Contributions</h3>\\n<p>Patches welcome!</p>\\n<p>If you would like to help, but don’t know what to work on, read the\\n            <a>contributing\\n                guidelines</a> and\\n            check the issues list.</p>\\n<h3 id=\"bugs\">Bugs</h3>\\n<p>When you find issues, please report them:\\n            <a>https://github.com/npm/cli/issues</a></p>\\n<p>Please be sure to follow the template and bug reporting guidelines.</p>\\n<h3 id=\"feature-requests\">Feature Requests</h3>\\n<p>Discuss new feature ideas on our discussion forum:</p>\\n<ul>\\n<li><a>https://github.com/npm/feedback</a></li>\\n</ul>\\n<p>Or suggest formal RFC proposals:</p>\\n<ul>\\n<li><a>https://github.com/npm/rfcs</a></li>\\n</ul>\\n<h3 id=\"see-also\">See Also</h3>\\n<ul>\\n<li><a>npm help</a></li>\\n<li><a>package.json</a></li>\\n<li><a>npmrc</a></li>\\n<li><a>npm config</a></li>\\n<li><a>npm install</a></li>\\n<li><a>npm prefix</a></li>\\n<li><a>npm publish</a></li>\\n</ul>\\n</div>\\n<footer id=\"edit\">\\n<a>\\n\\n            Edit this page on GitHub\\n        </a>\\n</footer>\\n</section>\\n</body>\\n</html>',\n",
       "  'id': 750,\n",
       "  'images': '/mnt/lingjiejiang/multimodal_code/data/github_html_v4/new_images/750.png',\n",
       "  'gpt4score': 8,\n",
       "  'gptresponse': 'Final Score: 8'}]"
      ]
     },
     "execution_count": 6,
     "metadata": {},
     "output_type": "execute_result"
    }
   ],
   "source": [
    "high_score_data[:2]"
   ]
=======
   "execution_count": null,
   "metadata": {},
   "outputs": [],
   "source": []
>>>>>>> 9ad0e6b32860c085e6fd408220e40595c7e55add
  }
 ],
 "metadata": {
  "kernelspec": {
   "display_name": "design",
   "language": "python",
   "name": "python3"
  },
  "language_info": {
   "codemirror_mode": {
    "name": "ipython",
    "version": 3
   },
   "file_extension": ".py",
   "mimetype": "text/x-python",
   "name": "python",
   "nbconvert_exporter": "python",
   "pygments_lexer": "ipython3",
   "version": "3.10.16"
  }
 },
 "nbformat": 4,
 "nbformat_minor": 2
}
