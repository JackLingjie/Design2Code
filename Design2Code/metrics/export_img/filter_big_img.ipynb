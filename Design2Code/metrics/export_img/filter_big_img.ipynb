{
 "cells": [
  {
   "cell_type": "code",
   "execution_count": 5,
   "metadata": {},
   "outputs": [
    {
     "name": "stderr",
     "output_type": "stream",
     "text": [
      "  1%|          | 623/92755 [00:11<11:34, 132.59it/s] "
     ]
    },
    {
     "name": "stdout",
     "output_type": "stream",
     "text": [
      "Image /mnt/lingjiejiang/multimodal_code/data/dpo/html/images/WebSight_images_new/image_1658_50.png exceeds size limits and will be removed.\n",
      "Image /mnt/lingjiejiang/multimodal_code/data/dpo/html/images/WebSight_images_new/image_3792_2.png exceeds size limits and will be removed.\n"
     ]
    },
    {
     "name": "stderr",
     "output_type": "stream",
     "text": [
      "  2%|▏         | 1451/92755 [00:19<25:02, 60.75it/s] "
     ]
    },
    {
     "name": "stdout",
     "output_type": "stream",
     "text": [
      "Image /mnt/lingjiejiang/multimodal_code/data/dpo/html/images/WebSight_images_new/image_9889_39.png exceeds size limits and will be removed.\n"
     ]
    },
    {
     "name": "stderr",
     "output_type": "stream",
     "text": [
      "  2%|▏         | 2005/92755 [00:24<13:46, 109.80it/s]"
     ]
    },
    {
     "name": "stdout",
     "output_type": "stream",
     "text": [
      "Image /mnt/lingjiejiang/multimodal_code/data/dpo/html/images/WebSight_images_new/image_10856_54.png exceeds size limits and will be removed.\n"
     ]
    },
    {
     "name": "stderr",
     "output_type": "stream",
     "text": [
      "  3%|▎         | 2460/92755 [00:28<14:19, 105.05it/s]"
     ]
    },
    {
     "name": "stdout",
     "output_type": "stream",
     "text": [
      "Image /mnt/lingjiejiang/multimodal_code/data/dpo/html/images/WebSight_images_new/image_7141_54.png exceeds size limits and will be removed.\n"
     ]
    },
    {
     "name": "stderr",
     "output_type": "stream",
     "text": [
      "  4%|▍         | 3973/92755 [00:43<14:30, 101.95it/s]"
     ]
    },
    {
     "name": "stdout",
     "output_type": "stream",
     "text": [
      "Image /mnt/lingjiejiang/multimodal_code/data/dpo/html/images/WebSight_images_new/image_5270_1.png exceeds size limits and will be removed.\n"
     ]
    },
    {
     "name": "stderr",
     "output_type": "stream",
     "text": [
      "  4%|▍         | 3995/92755 [00:43<14:08, 104.66it/s]"
     ]
    },
    {
     "name": "stdout",
     "output_type": "stream",
     "text": [
      "Image /mnt/lingjiejiang/multimodal_code/data/dpo/html/images/WebSight_images_new/image_5213_51.png exceeds size limits and will be removed.\n"
     ]
    },
    {
     "name": "stderr",
     "output_type": "stream",
     "text": [
      "  6%|▌         | 5697/92755 [01:01<13:51, 104.74it/s]"
     ]
    },
    {
     "name": "stdout",
     "output_type": "stream",
     "text": [
      "Image /mnt/lingjiejiang/multimodal_code/data/dpo/html/images/WebSight_images_new/image_10935_9.png exceeds size limits and will be removed.\n"
     ]
    },
    {
     "name": "stderr",
     "output_type": "stream",
     "text": [
      "  7%|▋         | 6346/92755 [01:07<13:50, 103.99it/s]"
     ]
    },
    {
     "name": "stdout",
     "output_type": "stream",
     "text": [
      "Image /mnt/lingjiejiang/multimodal_code/data/dpo/html/images/WebSight_images_new/image_8087_4.png exceeds size limits and will be removed.\n"
     ]
    },
    {
     "name": "stderr",
     "output_type": "stream",
     "text": [
      "  7%|▋         | 6489/92755 [01:08<13:42, 104.90it/s]"
     ]
    },
    {
     "name": "stdout",
     "output_type": "stream",
     "text": [
      "Image /mnt/lingjiejiang/multimodal_code/data/dpo/html/images/WebSight_images_new/image_3433_13.png exceeds size limits and will be removed.\n"
     ]
    },
    {
     "name": "stderr",
     "output_type": "stream",
     "text": [
      "  9%|▊         | 7924/92755 [01:22<13:31, 104.55it/s]"
     ]
    },
    {
     "name": "stdout",
     "output_type": "stream",
     "text": [
      "Image /mnt/lingjiejiang/multimodal_code/data/dpo/html/images/WebSight_images_new/image_10166_47.png exceeds size limits and will be removed.\n"
     ]
    },
    {
     "name": "stderr",
     "output_type": "stream",
     "text": [
      " 11%|█         | 9806/92755 [01:40<13:03, 105.93it/s]"
     ]
    },
    {
     "name": "stdout",
     "output_type": "stream",
     "text": [
      "Image /mnt/lingjiejiang/multimodal_code/data/dpo/html/images/WebSight_images_new/image_1582_40.png exceeds size limits and will be removed.\n"
     ]
    },
    {
     "name": "stderr",
     "output_type": "stream",
     "text": [
      " 11%|█▏        | 10598/92755 [01:47<12:59, 105.39it/s]"
     ]
    },
    {
     "name": "stdout",
     "output_type": "stream",
     "text": [
      "Image /mnt/lingjiejiang/multimodal_code/data/dpo/html/images/WebSight_images_new/image_821_60.png exceeds size limits and will be removed.\n"
     ]
    },
    {
     "name": "stderr",
     "output_type": "stream",
     "text": [
      " 12%|█▏        | 11053/92755 [01:52<12:46, 106.62it/s]"
     ]
    },
    {
     "name": "stdout",
     "output_type": "stream",
     "text": [
      "Image /mnt/lingjiejiang/multimodal_code/data/dpo/html/images/WebSight_images_new/image_618_70.png exceeds size limits and will be removed.\n"
     ]
    },
    {
     "name": "stderr",
     "output_type": "stream",
     "text": [
      " 13%|█▎        | 12103/92755 [02:04<12:20, 108.99it/s]"
     ]
    },
    {
     "name": "stdout",
     "output_type": "stream",
     "text": [
      "Image /mnt/lingjiejiang/multimodal_code/data/dpo/html/images/WebSight_images_new/image_10618_42.png exceeds size limits and will be removed.\n"
     ]
    },
    {
     "name": "stderr",
     "output_type": "stream",
     "text": [
      " 14%|█▍        | 13156/92755 [02:14<12:20, 107.48it/s]"
     ]
    },
    {
     "name": "stdout",
     "output_type": "stream",
     "text": [
      "Image /mnt/lingjiejiang/multimodal_code/data/dpo/html/images/WebSight_images_new/image_8728_50.png exceeds size limits and will be removed.\n"
     ]
    },
    {
     "name": "stderr",
     "output_type": "stream",
     "text": [
      " 14%|█▍        | 13213/92755 [02:15<12:26, 106.58it/s]"
     ]
    },
    {
     "name": "stdout",
     "output_type": "stream",
     "text": [
      "Image /mnt/lingjiejiang/multimodal_code/data/dpo/html/images/WebSight_images_new/image_4262_23.png exceeds size limits and will be removed.\n"
     ]
    },
    {
     "name": "stderr",
     "output_type": "stream",
     "text": [
      " 15%|█▍        | 13792/92755 [02:22<12:44, 103.35it/s]"
     ]
    },
    {
     "name": "stdout",
     "output_type": "stream",
     "text": [
      "Image /mnt/lingjiejiang/multimodal_code/data/dpo/html/images/WebSight_images_new/image_7831_28.png exceeds size limits and will be removed.\n"
     ]
    },
    {
     "name": "stderr",
     "output_type": "stream",
     "text": [
      " 17%|█▋        | 15874/92755 [02:42<13:17, 96.41it/s] "
     ]
    },
    {
     "name": "stdout",
     "output_type": "stream",
     "text": [
      "Image /mnt/lingjiejiang/multimodal_code/data/dpo/html/images/WebSight_images_new/image_2669_47.png exceeds size limits and will be removed.\n"
     ]
    },
    {
     "name": "stderr",
     "output_type": "stream",
     "text": [
      " 19%|█▉        | 17541/92755 [02:57<11:27, 109.38it/s]"
     ]
    },
    {
     "name": "stdout",
     "output_type": "stream",
     "text": [
      "Image /mnt/lingjiejiang/multimodal_code/data/dpo/html/images/WebSight_images_new/image_8134_69.png exceeds size limits and will be removed.\n"
     ]
    },
    {
     "name": "stderr",
     "output_type": "stream",
     "text": [
      " 20%|█▉        | 18184/92755 [03:03<11:40, 106.46it/s]"
     ]
    },
    {
     "name": "stdout",
     "output_type": "stream",
     "text": [
      "Image /mnt/lingjiejiang/multimodal_code/data/dpo/html/images/WebSight_images_new/image_2963_44.png exceeds size limits and will be removed.\n"
     ]
    },
    {
     "name": "stderr",
     "output_type": "stream",
     "text": [
      " 22%|██▏       | 19995/92755 [03:21<11:23, 106.46it/s]"
     ]
    },
    {
     "name": "stdout",
     "output_type": "stream",
     "text": [
      "Image /mnt/lingjiejiang/multimodal_code/data/dpo/html/images/WebSight_images_new/image_10644_70.png exceeds size limits and will be removed.\n"
     ]
    },
    {
     "name": "stderr",
     "output_type": "stream",
     "text": [
      " 23%|██▎       | 21159/92755 [03:32<11:09, 106.89it/s]"
     ]
    },
    {
     "name": "stdout",
     "output_type": "stream",
     "text": [
      "Image /mnt/lingjiejiang/multimodal_code/data/dpo/html/images/WebSight_images_new/image_7574_9.png exceeds size limits and will be removed.\n"
     ]
    },
    {
     "name": "stderr",
     "output_type": "stream",
     "text": [
      " 50%|████▉     | 46137/92755 [07:38<07:21, 105.67it/s] "
     ]
    },
    {
     "name": "stdout",
     "output_type": "stream",
     "text": [
      "Image /mnt/lingjiejiang/multimodal_code/data/dpo/html/images/../web2code_new_images/WebSight_images_new/image_7135_42.png exceeds size limits and will be removed.\n"
     ]
    },
    {
     "name": "stderr",
     "output_type": "stream",
     "text": [
      " 52%|█████▏    | 48151/92755 [07:57<07:01, 105.84it/s]"
     ]
    },
    {
     "name": "stdout",
     "output_type": "stream",
     "text": [
      "Image /mnt/lingjiejiang/multimodal_code/data/dpo/html/images/../web2code_new_images/WebSight_images_new/image_8356_49.png exceeds size limits and will be removed.\n"
     ]
    },
    {
     "name": "stderr",
     "output_type": "stream",
     "text": [
      " 52%|█████▏    | 48239/92755 [07:58<07:08, 103.84it/s]"
     ]
    },
    {
     "name": "stdout",
     "output_type": "stream",
     "text": [
      "Image /mnt/lingjiejiang/multimodal_code/data/dpo/html/images/../web2code_new_images/WebSight_images_new/image_5062_56.png exceeds size limits and will be removed.\n"
     ]
    },
    {
     "name": "stderr",
     "output_type": "stream",
     "text": [
      " 52%|█████▏    | 48360/92755 [07:59<07:04, 104.59it/s]"
     ]
    },
    {
     "name": "stdout",
     "output_type": "stream",
     "text": [
      "Image /mnt/lingjiejiang/multimodal_code/data/dpo/html/images/../web2code_new_images/WebSight_images_new/image_4439_42.png exceeds size limits and will be removed.\n"
     ]
    },
    {
     "name": "stderr",
     "output_type": "stream",
     "text": [
      " 52%|█████▏    | 48459/92755 [08:00<07:12, 102.44it/s]"
     ]
    },
    {
     "name": "stdout",
     "output_type": "stream",
     "text": [
      "Image /mnt/lingjiejiang/multimodal_code/data/dpo/html/images/../web2code_new_images/WebSight_images_new/image_2947_33.png exceeds size limits and will be removed.\n",
      "Image /mnt/lingjiejiang/multimodal_code/data/dpo/html/images/../web2code_new_images/WebSight_images_new/image_11187_31.png exceeds size limits and will be removed.\n",
      "Image /mnt/lingjiejiang/multimodal_code/data/dpo/html/images/../web2code_new_images/WebSight_images_new/image_7279_23.png exceeds size limits and will be removed.\n"
     ]
    },
    {
     "name": "stderr",
     "output_type": "stream",
     "text": [
      " 53%|█████▎    | 49307/92755 [08:09<06:47, 106.69it/s]"
     ]
    },
    {
     "name": "stdout",
     "output_type": "stream",
     "text": [
      "Image /mnt/lingjiejiang/multimodal_code/data/dpo/html/images/../web2code_new_images/WebSight_images_new/image_9769_19.png exceeds size limits and will be removed.\n"
     ]
    },
    {
     "name": "stderr",
     "output_type": "stream",
     "text": [
      " 53%|█████▎    | 49387/92755 [08:09<06:36, 109.40it/s]"
     ]
    },
    {
     "name": "stdout",
     "output_type": "stream",
     "text": [
      "Image /mnt/lingjiejiang/multimodal_code/data/dpo/html/images/../web2code_new_images/WebSight_images_new/image_1285_34.png exceeds size limits and will be removed.\n",
      "Image /mnt/lingjiejiang/multimodal_code/data/dpo/html/images/../web2code_new_images/WebSight_images_new/image_9518_11.png exceeds size limits and will be removed.\n"
     ]
    },
    {
     "name": "stderr",
     "output_type": "stream",
     "text": [
      " 53%|█████▎    | 49434/92755 [08:10<06:34, 109.86it/s]"
     ]
    },
    {
     "name": "stdout",
     "output_type": "stream",
     "text": [
      "Image /mnt/lingjiejiang/multimodal_code/data/dpo/html/images/../web2code_new_images/WebSight_images_new/image_6988_17.png exceeds size limits and will be removed.\n"
     ]
    },
    {
     "name": "stderr",
     "output_type": "stream",
     "text": [
      " 53%|█████▎    | 49501/92755 [08:10<06:41, 107.83it/s]"
     ]
    },
    {
     "name": "stdout",
     "output_type": "stream",
     "text": [
      "Image /mnt/lingjiejiang/multimodal_code/data/dpo/html/images/../web2code_new_images/WebSight_images_new/image_8066_6.png exceeds size limits and will be removed.\n"
     ]
    },
    {
     "name": "stderr",
     "output_type": "stream",
     "text": [
      " 54%|█████▍    | 50269/92755 [08:17<06:46, 104.54it/s]"
     ]
    },
    {
     "name": "stdout",
     "output_type": "stream",
     "text": [
      "Image /mnt/lingjiejiang/multimodal_code/data/dpo/html/images/../web2code_new_images/WebSight_images_new/image_74_22.png exceeds size limits and will be removed.\n"
     ]
    },
    {
     "name": "stderr",
     "output_type": "stream",
     "text": [
      " 54%|█████▍    | 50467/92755 [08:19<06:38, 105.99it/s]"
     ]
    },
    {
     "name": "stdout",
     "output_type": "stream",
     "text": [
      "Image /mnt/lingjiejiang/multimodal_code/data/dpo/html/images/../web2code_new_images/WebSight_images_new/image_7287_19.png exceeds size limits and will be removed.\n"
     ]
    },
    {
     "name": "stderr",
     "output_type": "stream",
     "text": [
      " 54%|█████▍    | 50533/92755 [08:20<06:37, 106.35it/s]"
     ]
    },
    {
     "name": "stdout",
     "output_type": "stream",
     "text": [
      "Image /mnt/lingjiejiang/multimodal_code/data/dpo/html/images/../web2code_new_images/WebSight_images_new/image_4471_13.png exceeds size limits and will be removed.\n"
     ]
    },
    {
     "name": "stderr",
     "output_type": "stream",
     "text": [
      " 55%|█████▍    | 50852/92755 [08:23<06:36, 105.68it/s]"
     ]
    },
    {
     "name": "stdout",
     "output_type": "stream",
     "text": [
      "Image /mnt/lingjiejiang/multimodal_code/data/dpo/html/images/../web2code_new_images/WebSight_images_new/image_10465_19.png exceeds size limits and will be removed.\n"
     ]
    },
    {
     "name": "stderr",
     "output_type": "stream",
     "text": [
      " 55%|█████▌    | 51028/92755 [08:25<06:30, 106.77it/s]"
     ]
    },
    {
     "name": "stdout",
     "output_type": "stream",
     "text": [
      "Image /mnt/lingjiejiang/multimodal_code/data/dpo/html/images/../web2code_new_images/WebSight_images_new/image_10562_5.png exceeds size limits and will be removed.\n"
     ]
    },
    {
     "name": "stderr",
     "output_type": "stream",
     "text": [
      " 55%|█████▌    | 51138/92755 [08:26<06:25, 107.97it/s]"
     ]
    },
    {
     "name": "stdout",
     "output_type": "stream",
     "text": [
      "Image /mnt/lingjiejiang/multimodal_code/data/dpo/html/images/../web2code_new_images/WebSight_images_new/image_11279_59.png exceeds size limits and will be removed.\n"
     ]
    },
    {
     "name": "stderr",
     "output_type": "stream",
     "text": [
      " 55%|█████▌    | 51182/92755 [08:26<06:26, 107.64it/s]"
     ]
    },
    {
     "name": "stdout",
     "output_type": "stream",
     "text": [
      "Image /mnt/lingjiejiang/multimodal_code/data/dpo/html/images/../web2code_new_images/WebSight_images_new/image_3235_65.png exceeds size limits and will be removed.\n"
     ]
    },
    {
     "name": "stderr",
     "output_type": "stream",
     "text": [
      " 55%|█████▌    | 51446/92755 [08:29<07:31, 91.47it/s] "
     ]
    },
    {
     "name": "stdout",
     "output_type": "stream",
     "text": [
      "Image /mnt/lingjiejiang/multimodal_code/data/dpo/html/images/../web2code_new_images/WebSight_images_new/image_3517_4.png exceeds size limits and will be removed.\n"
     ]
    },
    {
     "name": "stderr",
     "output_type": "stream",
     "text": [
      " 56%|█████▌    | 51512/92755 [08:30<06:26, 106.66it/s]"
     ]
    },
    {
     "name": "stdout",
     "output_type": "stream",
     "text": [
      "Image /mnt/lingjiejiang/multimodal_code/data/dpo/html/images/../web2code_new_images/WebSight_images_new/image_4387_60.png exceeds size limits and will be removed.\n",
      "Image /mnt/lingjiejiang/multimodal_code/data/dpo/html/images/../web2code_new_images/WebSight_images_new/image_11083_36.png exceeds size limits and will be removed.\n"
     ]
    },
    {
     "name": "stderr",
     "output_type": "stream",
     "text": [
      " 56%|█████▌    | 51568/92755 [08:30<06:20, 108.14it/s]"
     ]
    },
    {
     "name": "stdout",
     "output_type": "stream",
     "text": [
      "Image /mnt/lingjiejiang/multimodal_code/data/dpo/html/images/../web2code_new_images/WebSight_images_new/image_5200_30.png exceeds size limits and will be removed.\n"
     ]
    },
    {
     "name": "stderr",
     "output_type": "stream",
     "text": [
      " 56%|█████▌    | 51939/92755 [08:34<06:15, 108.66it/s]"
     ]
    },
    {
     "name": "stdout",
     "output_type": "stream",
     "text": [
      "Image /mnt/lingjiejiang/multimodal_code/data/dpo/html/images/../web2code_new_images/WebSight_images_new/image_2020_39.png exceeds size limits and will be removed.\n"
     ]
    },
    {
     "name": "stderr",
     "output_type": "stream",
     "text": [
      " 56%|█████▌    | 51974/92755 [08:34<06:34, 103.41it/s]"
     ]
    },
    {
     "name": "stdout",
     "output_type": "stream",
     "text": [
      "Image /mnt/lingjiejiang/multimodal_code/data/dpo/html/images/../web2code_new_images/WebSight_images_new/image_8346_49.png exceeds size limits and will be removed.\n"
     ]
    },
    {
     "name": "stderr",
     "output_type": "stream",
     "text": [
      " 57%|█████▋    | 52511/92755 [08:39<06:09, 108.93it/s]"
     ]
    },
    {
     "name": "stdout",
     "output_type": "stream",
     "text": [
      "Image /mnt/lingjiejiang/multimodal_code/data/dpo/html/images/../web2code_new_images/WebSight_images_new/image_80_47.png exceeds size limits and will be removed.\n"
     ]
    },
    {
     "name": "stderr",
     "output_type": "stream",
     "text": [
      " 57%|█████▋    | 52829/92755 [08:42<06:07, 108.62it/s]"
     ]
    },
    {
     "name": "stdout",
     "output_type": "stream",
     "text": [
      "Image /mnt/lingjiejiang/multimodal_code/data/dpo/html/images/../web2code_new_images/WebSight_images_new/image_5496_15.png exceeds size limits and will be removed.\n"
     ]
    },
    {
     "name": "stderr",
     "output_type": "stream",
     "text": [
      " 58%|█████▊    | 53781/92755 [08:51<06:04, 106.83it/s]"
     ]
    },
    {
     "name": "stdout",
     "output_type": "stream",
     "text": [
      "Image /mnt/lingjiejiang/multimodal_code/data/dpo/html/images/../web2code_new_images/WebSight_images_new/image_4272_70.png exceeds size limits and will be removed.\n"
     ]
    },
    {
     "name": "stderr",
     "output_type": "stream",
     "text": [
      " 59%|█████▊    | 54353/92755 [08:57<06:02, 105.84it/s]"
     ]
    },
    {
     "name": "stdout",
     "output_type": "stream",
     "text": [
      "Image /mnt/lingjiejiang/multimodal_code/data/dpo/html/images/../web2code_new_images/WebSight_images_new/image_1055_10.png exceeds size limits and will be removed.\n"
     ]
    },
    {
     "name": "stderr",
     "output_type": "stream",
     "text": [
      " 59%|█████▉    | 54584/92755 [08:59<05:59, 106.32it/s]"
     ]
    },
    {
     "name": "stdout",
     "output_type": "stream",
     "text": [
      "Image /mnt/lingjiejiang/multimodal_code/data/dpo/html/images/../web2code_new_images/WebSight_images_new/image_8450_48.png exceeds size limits and will be removed.\n",
      "Image /mnt/lingjiejiang/multimodal_code/data/dpo/html/images/../web2code_new_images/WebSight_images_new/image_251_69.png exceeds size limits and will be removed.\n"
     ]
    },
    {
     "name": "stderr",
     "output_type": "stream",
     "text": [
      " 60%|██████    | 55973/92755 [09:12<05:50, 104.82it/s]"
     ]
    },
    {
     "name": "stdout",
     "output_type": "stream",
     "text": [
      "Image /mnt/lingjiejiang/multimodal_code/data/dpo/html/images/../web2code_new_images/WebSight_images_new/image_4174_44.png exceeds size limits and will be removed.\n"
     ]
    },
    {
     "name": "stderr",
     "output_type": "stream",
     "text": [
      " 69%|██████▉   | 63881/92755 [10:34<04:20, 110.98it/s]"
     ]
    },
    {
     "name": "stdout",
     "output_type": "stream",
     "text": [
      "Image /mnt/lingjiejiang/multimodal_code/data/dpo/html/images/../web2code_new_images/WebSight_images_new/image_5279_15.png exceeds size limits and will be removed.\n"
     ]
    },
    {
     "name": "stderr",
     "output_type": "stream",
     "text": [
      " 73%|███████▎  | 67680/92755 [11:10<03:52, 107.91it/s]"
     ]
    },
    {
     "name": "stdout",
     "output_type": "stream",
     "text": [
      "Image /mnt/lingjiejiang/multimodal_code/data/dpo/html/images/../web2code_new_images/WebSight_images_new/image_8497_39.png exceeds size limits and will be removed.\n"
     ]
    },
    {
     "name": "stderr",
     "output_type": "stream",
     "text": [
      " 74%|███████▎  | 68323/92755 [11:16<04:02, 100.88it/s]"
     ]
    },
    {
     "name": "stdout",
     "output_type": "stream",
     "text": [
      "Image /mnt/lingjiejiang/multimodal_code/data/dpo/html/images/../web2code_new_images/WebSight_images_new/image_6290_21.png exceeds size limits and will be removed.\n"
     ]
    },
    {
     "name": "stderr",
     "output_type": "stream",
     "text": [
      " 86%|████████▌ | 79873/92755 [13:07<01:59, 108.01it/s]"
     ]
    },
    {
     "name": "stdout",
     "output_type": "stream",
     "text": [
      "Image /mnt/lingjiejiang/multimodal_code/data/dpo/html/images/../web2code_new_images/WebSight_images_new/image_3753_54.png exceeds size limits and will be removed.\n"
     ]
    },
    {
     "name": "stderr",
     "output_type": "stream",
     "text": [
      " 88%|████████▊ | 81211/92755 [13:20<01:47, 107.54it/s]"
     ]
    },
    {
     "name": "stdout",
     "output_type": "stream",
     "text": [
      "Image /mnt/lingjiejiang/multimodal_code/data/dpo/html/images/../web2code_new_images/WebSight_images_new/image_3130_66.png exceeds size limits and will be removed.\n"
     ]
    },
    {
     "name": "stderr",
     "output_type": "stream",
     "text": [
      " 90%|████████▉ | 83374/92755 [13:40<01:24, 111.46it/s]"
     ]
    },
    {
     "name": "stdout",
     "output_type": "stream",
     "text": [
      "Image /mnt/lingjiejiang/multimodal_code/data/dpo/html/images/../web2code_new_images/WebSight_images_new/image_7356_1.png exceeds size limits and will be removed.\n"
     ]
    },
    {
     "name": "stderr",
     "output_type": "stream",
     "text": [
      " 96%|█████████▌| 88834/92755 [14:33<00:35, 109.01it/s]"
     ]
    },
    {
     "name": "stdout",
     "output_type": "stream",
     "text": [
      "Image /mnt/lingjiejiang/multimodal_code/data/dpo/html/images/../web2code_new_images/WebSight_images_new/image_5622_15.png exceeds size limits and will be removed.\n"
     ]
    },
    {
     "name": "stderr",
     "output_type": "stream",
     "text": [
      " 98%|█████████▊| 90578/92755 [14:51<00:20, 106.96it/s]"
     ]
    },
    {
     "name": "stdout",
     "output_type": "stream",
     "text": [
      "Image /mnt/lingjiejiang/multimodal_code/data/dpo/html/images/../web2code_new_images/WebSight_images_new/image_7990_45.png exceeds size limits and will be removed.\n"
     ]
    },
    {
     "name": "stderr",
     "output_type": "stream",
     "text": [
      "100%|██████████| 92755/92755 [15:13<00:00, 101.55it/s]\n"
     ]
    },
    {
     "name": "stdout",
     "output_type": "stream",
     "text": [
      "Number of items after filtering: 92692\n",
      "Filtered data saved to /mnt/lingjiejiang/multimodal_code/data/dpo/html/gpt4o_html_dpo_92k_big_img_filtered.json\n"
     ]
    }
   ],
   "source": [
    "import json  \n",
    "from PIL import Image  \n",
    "from tqdm import tqdm  \n",
    "  \n",
    "# 设置合理的最大像素数和最大宽高  \n",
    "MAX_PIXELS = 4259840  # 例如：2560 * 1440  \n",
    "MAX_WIDTH = 2560  \n",
    "MAX_HEIGHT = 3328  \n",
    "  \n",
    "# 读取JSON文件  \n",
    "with open(\"/mnt/lingjiejiang/multimodal_code/data/dpo/html/gpt4o_html_filtered_92k.json\", \"r\") as f:  \n",
    "    data = json.load(f)  \n",
    "  \n",
    "# 遍历每个数据项  \n",
    "filtered_data = []  \n",
    "for item in tqdm(data):  \n",
    "    keep_item = True  \n",
    "    # for image_path in item.get('new_img', \"\"):  \n",
    "    image_path = item.get('new_img', \"\")\n",
    "    try:  \n",
    "        with Image.open(image_path) as img:  \n",
    "            # 检查图片尺寸  \n",
    "            if img.width > MAX_WIDTH or img.height > MAX_HEIGHT or (img.width * img.height) > MAX_PIXELS:  \n",
    "                keep_item = False  \n",
    "                print(f\"Image {image_path} exceeds size limits and will be removed.\")  \n",
    "    except Exception as e:  \n",
    "        print(f\"Could not process image {image_path}: {e}\")  \n",
    "        keep_item = False  \n",
    "    if keep_item:  \n",
    "        filtered_data.append(item)  \n",
    "  \n",
    "# 输出过滤后的数据长度  \n",
    "print(f\"Number of items after filtering: {len(filtered_data)}\")  \n",
    "  \n",
    "# # 将过滤后的数据保存回JSON文件  \n",
    "filtered_save_path = f\"/mnt/lingjiejiang/multimodal_code/data/dpo/html/gpt4o_html_dpo_{len(filtered_data) // 1000}k_big_img_filtered.json\"  \n",
    "with open(filtered_save_path, \"w\") as f:  \n",
    "    json.dump(filtered_data, f, indent=0)  \n",
    "print(f\"Filtered data saved to {filtered_save_path}\")"
   ]
  },
  {
   "cell_type": "code",
   "execution_count": 2,
   "metadata": {},
   "outputs": [
    {
     "data": {
      "text/plain": [
       "{'index': 3,\n",
       " 'code_extract': '<!DOCTYPE html>\\n<html lang=\"en\">\\n<head>\\n    <meta charset=\"UTF-8\">\\n    <meta name=\"viewport\" content=\"width=device-width, initial-scale=1.0\">\\n    <title>Map of Popular Destinations</title>\\n    <style>\\n        body {\\n            margin: 0;\\n            padding: 0;\\n            background-color: #eaeaea;\\n            font-family: Arial, sans-serif;\\n        }\\n\\n        .header {\\n            background-color: red;\\n            color: white;\\n            text-align: center;\\n            padding: 20px;\\n            position: relative;\\n        }\\n\\n        .header img {\\n            position: absolute;\\n            left: 50%;\\n            transform: translateX(-50%);\\n            top: 50%;\\n            width: 20px;\\n            height: 20px;\\n            margin-top: -10px;\\n            margin-left: -70px; /* Adjust based on text width */\\n        }\\n\\n        .content {\\n            display: flex;\\n            justify-content: center;\\n            align-items: center;\\n            margin-top: 50px;\\n        }\\n\\n        .destination {\\n            background-color: blue;\\n            color: white;\\n            width: 300px;\\n            padding: 20px;\\n            margin: 0 10px;\\n            text-align: center;\\n            box-sizing: border-box;\\n        }\\n\\n        .destination h2 {\\n            margin-top: 0;\\n        }\\n\\n        .destination p {\\n            margin: 10px 0 0 0;\\n            color: lightgray;\\n        }\\n    </style>\\n</head>\\n<body>\\n    <div class=\"header\">\\n        <img src=\"rick.jpg\" alt=\"Map Icon\">\\n        Map of Popular Destinations\\n    </div>\\n    <div class=\"content\">\\n        <div class=\"destination\">\\n            <h2>New York</h2>\\n            <p>Experience the vibrant culture and rich history of New York City.</p>\\n        </div>\\n        <div class=\"destination\">\\n            <h2>Paris</h2>\\n            <p>Relax and enjoy the romance of the Eiffel Tower while discovering Parisian charm.</p>\\n        </div>\\n    </div>\\n</body>\\n</html>',\n",
       " 'generate_raw': '```html\\n<!DOCTYPE html>\\n<html lang=\"en\">\\n<head>\\n    <meta charset=\"UTF-8\">\\n    <meta name=\"viewport\" content=\"width=device-width, initial-scale=1.0\">\\n    <title>Map of Popular Destinations</title>\\n    <style>\\n        body {\\n            margin: 0;\\n            padding: 0;\\n            background-color: #eaeaea;\\n            font-family: Arial, sans-serif;\\n        }\\n\\n        .header {\\n            background-color: red;\\n            color: white;\\n            text-align: center;\\n            padding: 20px;\\n            position: relative;\\n        }\\n\\n        .header img {\\n            position: absolute;\\n            left: 50%;\\n            transform: translateX(-50%);\\n            top: 50%;\\n            width: 20px;\\n            height: 20px;\\n            margin-top: -10px;\\n            margin-left: -70px; /* Adjust based on text width */\\n        }\\n\\n        .content {\\n            display: flex;\\n            justify-content: center;\\n            align-items: center;\\n            margin-top: 50px;\\n        }\\n\\n        .destination {\\n            background-color: blue;\\n            color: white;\\n            width: 300px;\\n            padding: 20px;\\n            margin: 0 10px;\\n            text-align: center;\\n            box-sizing: border-box;\\n        }\\n\\n        .destination h2 {\\n            margin-top: 0;\\n        }\\n\\n        .destination p {\\n            margin: 10px 0 0 0;\\n            color: lightgray;\\n        }\\n    </style>\\n</head>\\n<body>\\n    <div class=\"header\">\\n        <img src=\"rick.jpg\" alt=\"Map Icon\">\\n        Map of Popular Destinations\\n    </div>\\n    <div class=\"content\">\\n        <div class=\"destination\">\\n            <h2>New York</h2>\\n            <p>Experience the vibrant culture and rich history of New York City.</p>\\n        </div>\\n        <div class=\"destination\">\\n            <h2>Paris</h2>\\n            <p>Relax and enjoy the romance of the Eiffel Tower while discovering Parisian charm.</p>\\n        </div>\\n    </div>\\n</body>\\n</html>\\n```',\n",
       " 'stop_reason': 'stop',\n",
       " 'model': 'gpt4o',\n",
       " 'id': '10372_11',\n",
       " 'messages': [{'content': '<image>\\nRecreate the website design from the image using HTML and CSS code. Generate code that compliments the architecture of material design.',\n",
       "   'role': 'user'},\n",
       "  {'content': '```html\\n<!DOCTYPE html>\\n<html lang=\"en\">\\n<head>\\n    <meta charset=\"UTF-8\">\\n    <meta name=\"viewport\" content=\"width=device-width, initial-scale=1.0\">\\n    <title>Popular Destinations</title>\\n    <style>\\n        body {\\n            margin: 0;\\n            font-family: Arial, sans-serif;\\n            background-color: #f5f5f5;\\n            color: #333;\\n        }\\n        .container {\\n            width: 100%;\\n            max-width: 1200px;\\n            margin: 0 auto;\\n            text-align: center;\\n        }\\n        .map-section {\\n            background-color: red;\\n            padding: 20px;\\n            margin-bottom: 20px;\\n        }\\n        .map-section img {\\n            width: 20px;\\n            vertical-align: middle;\\n        }\\n        .map-section h2 {\\n            display: inline;\\n            color: white;\\n            font-size: 24px;\\n            margin-left: 10px;\\n        }\\n        .destinations {\\n            display: flex;\\n            justify-content: space-around;\\n            padding: 20px;\\n        }\\n        .destination {\\n            background-color: blue;\\n            width: 45%;\\n            padding: 20px;\\n            box-sizing: border-box;\\n            color: white;\\n        }\\n        .destination img {\\n            width: 20px;\\n            vertical-align: middle;\\n        }\\n        .destination h3 {\\n            margin-top: 0;\\n            font-size: 20px;\\n        }\\n        .destination p {\\n            color: #333;\\n            font-size: 16px;\\n            margin-top: 10px;\\n        }\\n    </style>\\n</head>\\n<body>\\n    <div class=\"container\">\\n        <div class=\"map-section\">\\n            <img src=\"rick.jpg\" alt=\"Map Icon\">\\n            <h2>Map of Popular Destinations</h2>\\n        </div>\\n        <div class=\"destinations\">\\n            <div class=\"destination\">\\n                <img src=\"rick.jpg\" alt=\"New York Icon\">\\n                <h3>New York</h3>\\n                <p>Experience the vibrant culture and rich history of New York City.</p>\\n            </div>\\n            <div class=\"destination\">\\n                <img src=\"rick.jpg\" alt=\"Paris Icon\">\\n                <h3>Paris</h3>\\n                <p>Relax and enjoy the romance of the Eiffel Tower while discovering Parisian charm.</p>\\n            </div>\\n        </div>\\n    </div>\\n</body>\\n</html>\\n```',\n",
       "   'role': 'assistant'}],\n",
       " 'images': ['/mnt/lingjiejiang/multimodal_code/data/Web2code_gpt4o/WebSight_images_new/image_10372_11.png'],\n",
       " 'revised_html': '<!DOCTYPE html>\\n<html lang=\"en\">\\n<head>\\n    <meta charset=\"UTF-8\">\\n    <meta name=\"viewport\" content=\"width=device-width, initial-scale=1.0\">\\n    <title>Popular Destinations</title>\\n    <style>\\n        body {\\n            margin: 0;\\n            font-family: Arial, sans-serif;\\n            background-color: #f5f5f5;\\n            color: #333;\\n        }\\n        .container {\\n            width: 100%;\\n            max-width: 1200px;\\n            margin: 0 auto;\\n            text-align: center;\\n        }\\n        .map-section {\\n            background-color: red;\\n            padding: 20px;\\n            margin-bottom: 20px;\\n        }\\n        .map-section img {\\n            width: 20px;\\n            vertical-align: middle;\\n        }\\n        .map-section h2 {\\n            display: inline;\\n            color: white;\\n            font-size: 24px;\\n            margin-left: 10px;\\n        }\\n        .destinations {\\n            display: flex;\\n            justify-content: space-around;\\n            padding: 20px;\\n        }\\n        .destination {\\n            background-color: blue;\\n            width: 45%;\\n            padding: 20px;\\n            box-sizing: border-box;\\n            color: white;\\n        }\\n        .destination img {\\n            width: 20px;\\n            vertical-align: middle;\\n        }\\n        .destination h3 {\\n            margin-top: 0;\\n            font-size: 20px;\\n        }\\n        .destination p {\\n            color: #333;\\n            font-size: 16px;\\n            margin-top: 10px;\\n        }\\n    </style>\\n</head>\\n<body>\\n    <div class=\"container\">\\n        <div class=\"map-section\">\\n            <img src=\"rick.jpg\" alt=\"Map Icon\">\\n            <h2>Map of Popular Destinations</h2>\\n        </div>\\n        <div class=\"destinations\">\\n            <div class=\"destination\">\\n                <img src=\"rick.jpg\" alt=\"New York Icon\">\\n                <h3>New York</h3>\\n                <p>Experience the vibrant culture and rich history of New York City.</p>\\n            </div>\\n            <div class=\"destination\">\\n                <img src=\"rick.jpg\" alt=\"Paris Icon\">\\n                <h3>Paris</h3>\\n                <p>Relax and enjoy the romance of the Eiffel Tower while discovering Parisian charm.</p>\\n            </div>\\n        </div>\\n    </div>\\n</body>\\n</html>',\n",
       " 'original_html': '<html>\\n<style>\\nbody {\\n    margin: 0;\\n    padding: 0;\\n    font-family: Arial, sans-serif;\\n}\\n\\n#map_centerpiece {\\n    width: 100%;\\n    height: 50vh;\\n    display: flex;\\n    justify-content: center;\\n    align-items: center;\\n    background-color: #F5F5F5;\\n}\\n\\n/* To replace the image with a colored placeholder */\\n#map_centerpiece img {\\n    background-color: #FF0000;\\n    width: 80%;\\n    height: 80%;\\n}\\n\\n#destinations {\\n    display: flex;\\n    flex-wrap: wrap;\\n    justify-content: center;\\n    margin: 20px 0;\\n}\\n\\n.destination {\\n    width: 30%;\\n    margin: 10px;\\n    text-align: center;\\n}\\n\\n/* To replace the image with a colored placeholder */\\n.destination img {\\n    background-color: #0000FF;\\n    width: 100%;\\n    height: 50vh;\\n    margin-bottom: 10px;\\n}\\n</style>\\n<body>\\n    <div id=\"map_centerpiece\">\\n        <img src=\"map.jpg\" alt=\"Map of Popular Destinations\">\\n    </div>\\n    <div id=\"destinations\">\\n        <div class=\"destination\">\\n            <img src=\"new_york.jpg\" alt=\"New York\">\\n            <h2>New York</h2>\\n            <p>Experience the vibrant culture and rich history of New York City.</p>\\n        </div>\\n        <div class=\"destination\">\\n            <img src=\"paris.jpg\" alt=\"Paris\">\\n            <h2>Paris</h2>\\n            <p>Relax and enjoy the romance of the Eiffel Tower while discovering Parisian charm.</p>\\n        </div>\\n       <!-- and so on for other popular destinations -->\\n    </div>\\n</body>\\n</html>',\n",
       " 'gpt_answer': '```html\\n<!DOCTYPE html>\\n<html lang=\"en\">\\n<head>\\n    <meta charset=\"UTF-8\">\\n    <meta name=\"viewport\" content=\"width=device-width, initial-scale=1.0\">\\n    <title>Popular Destinations</title>\\n    <style>\\n        body {\\n            margin: 0;\\n            font-family: Arial, sans-serif;\\n            background-color: #f5f5f5;\\n            color: #333;\\n        }\\n        .container {\\n            width: 100%;\\n            max-width: 1200px;\\n            margin: 0 auto;\\n            text-align: center;\\n        }\\n        .map-section {\\n            background-color: red;\\n            padding: 20px;\\n            margin-bottom: 20px;\\n        }\\n        .map-section img {\\n            width: 20px;\\n            vertical-align: middle;\\n        }\\n        .map-section h2 {\\n            display: inline;\\n            color: white;\\n            font-size: 24px;\\n            margin-left: 10px;\\n        }\\n        .destinations {\\n            display: flex;\\n            justify-content: space-around;\\n            padding: 20px;\\n        }\\n        .destination {\\n            background-color: blue;\\n            width: 45%;\\n            padding: 20px;\\n            box-sizing: border-box;\\n            color: white;\\n        }\\n        .destination img {\\n            width: 20px;\\n            vertical-align: middle;\\n        }\\n        .destination h3 {\\n            margin-top: 0;\\n            font-size: 20px;\\n        }\\n        .destination p {\\n            color: #333;\\n            font-size: 16px;\\n            margin-top: 10px;\\n        }\\n    </style>\\n</head>\\n<body>\\n    <div class=\"container\">\\n        <div class=\"map-section\">\\n            <img src=\"rick.jpg\" alt=\"Map Icon\">\\n            <h2>Map of Popular Destinations</h2>\\n        </div>\\n        <div class=\"destinations\">\\n            <div class=\"destination\">\\n                <img src=\"rick.jpg\" alt=\"New York Icon\">\\n                <h3>New York</h3>\\n                <p>Experience the vibrant culture and rich history of New York City.</p>\\n            </div>\\n            <div class=\"destination\">\\n                <img src=\"rick.jpg\" alt=\"Paris Icon\">\\n                <h3>Paris</h3>\\n                <p>Relax and enjoy the romance of the Eiffel Tower while discovering Parisian charm.</p>\\n            </div>\\n        </div>\\n    </div>\\n</body>\\n</html>\\n```\\n\\nThis HTML and CSS code creates a simple webpage with a map section and two destination sections styled similarly to the provided image. The layout is designed to fit within a single screen without scrolling, and all styles are included within the HTML file.',\n",
       " 'new_img': '/mnt/lingjiejiang/multimodal_code/data/dpo/html/images/WebSight_images_new/image_10372_11.png',\n",
       " 'formatted_html': '```html\\n<!DOCTYPE html>\\n<html lang=\"en\">\\n<head>\\n    <meta charset=\"UTF-8\">\\n    <meta name=\"viewport\" content=\"width=device-width, initial-scale=1.0\">\\n    <title>Popular Destinations</title>\\n    <style>\\n        body {\\n            margin: 0;\\n            font-family: Arial, sans-serif;\\n            background-color: #f5f5f5;\\n            color: #333;\\n        }\\n        .container {\\n            width: 100%;\\n            max-width: 1200px;\\n            margin: 0 auto;\\n            text-align: center;\\n        }\\n        .map-section {\\n            background-color: red;\\n            padding: 20px;\\n            margin-bottom: 20px;\\n        }\\n        .map-section img {\\n            width: 20px;\\n            vertical-align: middle;\\n        }\\n        .map-section h2 {\\n            display: inline;\\n            color: white;\\n            font-size: 24px;\\n            margin-left: 10px;\\n        }\\n        .destinations {\\n            display: flex;\\n            justify-content: space-around;\\n            padding: 20px;\\n        }\\n        .destination {\\n            background-color: blue;\\n            width: 45%;\\n            padding: 20px;\\n            box-sizing: border-box;\\n            color: white;\\n        }\\n        .destination img {\\n            width: 20px;\\n            vertical-align: middle;\\n        }\\n        .destination h3 {\\n            margin-top: 0;\\n            font-size: 20px;\\n        }\\n        .destination p {\\n            color: #333;\\n            font-size: 16px;\\n            margin-top: 10px;\\n        }\\n    </style>\\n</head>\\n<body>\\n    <div class=\"container\">\\n        <div class=\"map-section\">\\n            <img src=\"rick.jpg\" alt=\"Map Icon\">\\n            <h2>Map of Popular Destinations</h2>\\n        </div>\\n        <div class=\"destinations\">\\n            <div class=\"destination\">\\n                <img src=\"rick.jpg\" alt=\"New York Icon\">\\n                <h3>New York</h3>\\n                <p>Experience the vibrant culture and rich history of New York City.</p>\\n            </div>\\n            <div class=\"destination\">\\n                <img src=\"rick.jpg\" alt=\"Paris Icon\">\\n                <h3>Paris</h3>\\n                <p>Relax and enjoy the romance of the Eiffel Tower while discovering Parisian charm.</p>\\n            </div>\\n        </div>\\n    </div>\\n</body>\\n</html>\\n```',\n",
       " 'source': 'gpt4orevised',\n",
       " 'design_prompt': 'You are an expert web developer who specializes in HTML and CSS.\\nA user will provide you with a screenshot of a webpage.\\nYou need to return a single html file that uses HTML and CSS to reproduce the given website.\\nInclude all CSS code in the HTML file itself.\\nIf it involves any images, use \"rick.jpg\" as the placeholder.\\nSome images on the webpage are replaced with a blue rectangle as the placeholder, use \"rick.jpg\" for those as well.\\nDo not hallucinate any dependencies to external files. You do not need to include JavaScript scripts for dynamic interactions.\\nPay attention to things like size, text, position, and color of all the elements, as well as the overall layout.\\nRespond with the content of the HTML+CSS file:\\n',\n",
       " 'gpt_prompt': 'You are an expert web developer who specializes in HTML and CSS.\\nA user will provide you with a screenshot of a webpage.\\nYou need to return a single html file that uses HTML and CSS to reproduce the given website.\\nInclude all CSS code in the HTML file itself.\\nIf it involves any images, use \"rick.jpg\" as the placeholder.\\nSome images on the webpage are replaced with a blue rectangle as the placeholder, use \"rick.jpg\" for those as well.\\nDo not hallucinate any dependencies to external files. You do not need to include JavaScript scripts for dynamic interactions.\\nPay attention to things like size, text, position, and color of all the elements, as well as the overall layout.\\nRespond with the content of the HTML+CSS file:',\n",
       " 'type': 'html'}"
      ]
     },
     "execution_count": 2,
     "metadata": {},
     "output_type": "execute_result"
    }
   ],
   "source": [
    "import json\n",
    "with open(\"/mnt/lingjiejiang/multimodal_code/data/dpo/html/gpt4o_html_filtered_92k.json\", \"r\") as f:  \n",
    "    data = json.load(f)  \n",
    "data[0]"
   ]
  }
 ],
 "metadata": {
  "kernelspec": {
   "display_name": "design",
   "language": "python",
   "name": "python3"
  },
  "language_info": {
   "codemirror_mode": {
    "name": "ipython",
    "version": 3
   },
   "file_extension": ".py",
   "mimetype": "text/x-python",
   "name": "python",
   "nbconvert_exporter": "python",
   "pygments_lexer": "ipython3",
   "version": "3.10.16"
  }
 },
 "nbformat": 4,
 "nbformat_minor": 2
}
