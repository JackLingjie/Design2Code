{
 "cells": [
  {
   "cell_type": "code",
   "execution_count": 1,
   "metadata": {},
   "outputs": [
    {
     "data": {
      "text/plain": [
       "90291"
      ]
     },
     "execution_count": 1,
     "metadata": {},
     "output_type": "execute_result"
    }
   ],
   "source": [
    "import json\n",
    "output_file_filter = \"/mnt/lingjiejiang/multimodal_code/data/Web2Code/Web2Code_onetrun_with_img.json\"\n",
    "with open(output_file_filter, \"r\") as f:\n",
    "    img_data = json.load(f)\n",
    "len(img_data)"
   ]
  },
  {
   "cell_type": "code",
   "execution_count": 3,
   "metadata": {},
   "outputs": [
    {
     "name": "stdout",
     "output_type": "stream",
     "text": [
      "Sampled data saved to with_img_sampled_data_cate.json\n"
     ]
    }
   ],
   "source": [
    "import os\n",
    "import random\n",
    "output_file = \"with_img_sampled_data_cate.json\"  \n",
    "  \n",
    "# # 打开并加载原始数据  \n",
    "# with open(input_file, 'r') as f:  \n",
    "#     web2code_all_data = json.load(f)  \n",
    "  \n",
    "# 字典用于存储按类别分类的数据  \n",
    "data_by_category = {}  \n",
    "  \n",
    "# 基础路径前缀  \n",
    "base_path = \"/mnt/lingjiejiang/multimodal_code/data/Web2Code/\"  \n",
    "  \n",
    "# 遍历数据，按类别进行分类  \n",
    "for item in img_data:  \n",
    "    # 提取图像路径的目录部分并去掉基础路径前缀  \n",
    "    image_path = item['images'][0]  \n",
    "    directory_path = os.path.dirname(image_path)  \n",
    "    if directory_path.startswith(base_path):  \n",
    "        category = directory_path[len(base_path):]  \n",
    "    else:  \n",
    "        continue  # 如果路径不符合预期，跳过这个项  \n",
    "  \n",
    "    # 将数据按类别存储  \n",
    "    if category not in data_by_category:  \n",
    "        data_by_category[category] = []  \n",
    "    data_by_category[category].append(item)  \n",
    "  \n",
    "# 按类别进行采样，每个类别最多选择10个  \n",
    "sampled_data = []  \n",
    "for category, items in data_by_category.items():  \n",
    "    if len(items) > 10:  \n",
    "        sampled_items = random.sample(items, 10)  \n",
    "    else:  \n",
    "        sampled_items = items  \n",
    "    sampled_data.extend(sampled_items)  \n",
    "  \n",
    "# 将采样后的数据保存到新的 JSON 文件  \n",
    "with open(output_file, 'w') as f:  \n",
    "    json.dump(sampled_data, f, indent=4)  \n",
    "  \n",
    "print(f\"Sampled data saved to {output_file}\")  "
   ]
  }
 ],
 "metadata": {
  "kernelspec": {
   "display_name": "design",
   "language": "python",
   "name": "python3"
  },
  "language_info": {
   "codemirror_mode": {
    "name": "ipython",
    "version": 3
   },
   "file_extension": ".py",
   "mimetype": "text/x-python",
   "name": "python",
   "nbconvert_exporter": "python",
   "pygments_lexer": "ipython3",
   "version": "3.10.16"
  }
 },
 "nbformat": 4,
 "nbformat_minor": 2
}
