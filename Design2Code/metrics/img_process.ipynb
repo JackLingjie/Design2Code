{
 "cells": [
  {
   "cell_type": "code",
   "execution_count": 6,
   "metadata": {},
   "outputs": [
    {
     "data": {
      "text/plain": [
       "90291"
      ]
     },
     "execution_count": 6,
     "metadata": {},
     "output_type": "execute_result"
    }
   ],
   "source": [
    "import json\n",
    "output_file_filter = \"/mnt/lingjiejiang/multimodal_code/data/Web2Code/Web2Code_onetrun_with_img.json\"\n",
    "with open(output_file_filter, \"r\") as f:\n",
    "    img_data = json.load(f)\n",
    "len(img_data)"
   ]
  },
  {
   "cell_type": "code",
   "execution_count": 2,
   "metadata": {},
   "outputs": [
    {
     "data": {
      "text/plain": [
       "[{'id': '2008',\n",
       "  'messages': [{'content': '<image>\\nAfter scrutinizing the webpage screenshot provided, craft HTML code for a similar responsive layout. Present the script that reflects the spirit of the material design system.',\n",
       "    'role': 'user'},\n",
       "   {'content': '<!DOCTYPE html>\\n<html>\\n<head>\\n <title>Artist Portfolio</title>\\n <meta charset=\"UTF-8\">\\n <meta name=\"viewport\" content=\"width=device-width, initial-scale=1.0\">\\n <style>\\n  body {\\n font-family: \\'Montserrat\\', sans-serif;\\n background-color: #858585;\\n }\\n header {\\n background-color: #ffd180;\\n color: #fff;\\n padding: 20px;\\n text-align: center;\\n }\\n #bio {\\n width: 80%;\\n margin: 0 auto;\\n padding: 20px;\\n background-color: #fff;\\n border-radius: 5px;\\n box-shadow: 0 2px 5px rgba(0,0,0,0.1);\\n }\\n #gallery {\\n display: flex;\\n flex-wrap: wrap;\\n justify-content: center;\\n }\\n .artwork {\\n width: 200px;\\n margin: 20px;\\n border-radius: 5px;\\n box-shadow: 0 2px 5px rgba(0,0,0,0.1);\\n }\\n .artwork img {\\n width: 100%;\\n border-radius: 5px 5px 0 0;\\n }\\n .artwork h3 {\\n background: #fff;\\n padding: 10px;\\n text-align: center;\\n border-radius: 0 0 5px 5px;\\n margin-top: -10px;\\n }\\n </style>\\n</head>\\n<body>\\n <header>\\n <h1>Jessica\\'s Portfolio</h1>\\n </header>\\n <div id=\"bio\">\\n <h2>About the Artist</h2>\\n <p>Jessica is a London-based artist specializing in oil paintings and digital art.</p>\\n </div>\\n <div id=\"gallery\">\\n <div class=\"artwork\">\\n <img src=\"oilpainting.jpg\" alt=\"Oil Painting\">\\n <h3>The Awakening</h3>\\n </div>\\n <div class=\"artwork\">\\n <img src=\"digitalart.jpg\" alt=\"Digital Art\">\\n <h3>Space Odyssey</h3>\\n </div>\\n <div class=\"artwork\">\\n <img src=\"oilpainting2.jpg\" alt=\"Oil Painting\">\\n <h3>New Beginnings</h3>\\n </div>\\n </div>\\n</body>\\n</html>',\n",
       "    'role': 'assistant'}],\n",
       "  'images': ['/mnt/lingjiejiang/multimodal_code/data/Web2Code/new_data/2008.png']},\n",
       " {'id': '9523',\n",
       "  'messages': [{'content': '<image>\\nGiven the image of a website design, can you devise the HTML to reproduce its structure? Discuss code maintaining consistency with material design.',\n",
       "    'role': 'user'},\n",
       "   {'content': '<!DOCTYPE html>\\n<html>\\n<head>\\n <title>New Game Launch</title>\\n <link rel=\"stylesheet\" type=\"text/css\" href=\"css/styles.css\">\\n</head>\\n<body>\\n <header>\\n <h1>New Game Launch!</h1>\\n <nav>\\n <a href=\"#\">Features</a>\\n <a href=\"#\">Screenshots</a>\\n <a href=\"#\">Purchase</a>\\n </nav>\\n </header>\\n <div class=\"features\">\\n <h2>Experience the World of <span class=\"game-name\">Aurascape</span></h2>\\n <p>Discover a vast open world and immerse yourself in endless adventure.</p>\\n <div class=\"details\">\\n <img src=\"img/logo.png\" alt=\"Aurascape logo\">\\n <h3>Character Customization</h3>\\n <p>Tailor your character\\'s appearance and abilities to suit your playstyle.</p>\\n </div>\\n <div class=\"details\">\\n <img src=\"img/mech-battle.jpg\" alt=\"Mech battles\">\\n <h3>Intense Mech Battles</h3>\\n <p>Utilize powerful mechs to engage in epic battles against your enemies.</p>\\n </div>\\n <div class=\"details\">\\n <img src=\"img/quests.jpg\" alt=\"Quests\">\\n <h3>Endless Side Quests</h3>\\n <p>Embark on numerous side quests and explore a world filled with secrets.</p>\\n </div>\\n <div class=\"details\">\\n <img src=\"img/branching-storyline.jpg\" alt=\"Branching storyline\">\\n <h3>Branching Storyline</h3>\\n <p>Your choices will impact the outcome of the story, creating a unique gaming experience.</p>\\n </div>\\n </div>\\n <div class=\"screenshots\">\\n <h2>Featured Screenshots</h2>\\n <img src=\"img/screenshot-1.jpg\" alt=\"screenshot 1\">\\n <img src=\"img/screenshot-2.jpg\" alt=\"screenshot 2\">\\n <img src=\"img/screenshot-3.jpg\" alt=\"screenshot 3\">\\n </div>\\n <div class=\"purchase\">\\n <h2>Get in the Game!</h2>\\n <p>Available now for just $29.99</p>\\n </div>\\n</body>\\n</html>',\n",
       "    'role': 'assistant'}],\n",
       "  'images': ['/mnt/lingjiejiang/multimodal_code/data/Web2Code/new_data/9523.png']}]"
      ]
     },
     "execution_count": 2,
     "metadata": {},
     "output_type": "execute_result"
    }
   ],
   "source": [
    "img_data[:2]"
   ]
  },
  {
   "cell_type": "code",
   "execution_count": null,
   "metadata": {},
   "outputs": [],
   "source": [
    "    predict_img_path = os.path.join(\n",
    "        '/mnt/lingjiejiang/multimodal_code/data/web2code_new_images',\n",
    "        os.path.relpath(image_path, '/mnt/lingjiejiang/multimodal_code/data/Web2Code/')\n",
    "    )"
   ]
  },
  {
   "cell_type": "code",
   "execution_count": 3,
   "metadata": {},
   "outputs": [
    {
     "name": "stdout",
     "output_type": "stream",
     "text": [
      "Sampled data saved to with_img_sampled_data_cate.json\n"
     ]
    }
   ],
   "source": [
    "import os\n",
    "import random\n",
    "output_file = \"with_img_sampled_data_cate.json\"  \n",
    "  \n",
    "# # 打开并加载原始数据  \n",
    "# with open(input_file, 'r') as f:  \n",
    "#     web2code_all_data = json.load(f)  \n",
    "  \n",
    "# 字典用于存储按类别分类的数据  \n",
    "data_by_category = {}  \n",
    "  \n",
    "# 基础路径前缀  \n",
    "base_path = \"/mnt/lingjiejiang/multimodal_code/data/Web2Code/\"  \n",
    "  \n",
    "# 遍历数据，按类别进行分类  \n",
    "for item in img_data:  \n",
    "    # 提取图像路径的目录部分并去掉基础路径前缀  \n",
    "    image_path = item['images'][0]  \n",
    "    directory_path = os.path.dirname(image_path)  \n",
    "    if directory_path.startswith(base_path):  \n",
    "        category = directory_path[len(base_path):]  \n",
    "    else:  \n",
    "        continue  # 如果路径不符合预期，跳过这个项  \n",
    "  \n",
    "    # 将数据按类别存储  \n",
    "    if category not in data_by_category:  \n",
    "        data_by_category[category] = []  \n",
    "    data_by_category[category].append(item)  \n",
    "  \n",
    "# 按类别进行采样，每个类别最多选择10个  \n",
    "sampled_data = []  \n",
    "for category, items in data_by_category.items():  \n",
    "    if len(items) > 10:  \n",
    "        sampled_items = random.sample(items, 10)  \n",
    "    else:  \n",
    "        sampled_items = items  \n",
    "    sampled_data.extend(sampled_items)  \n",
    "  \n",
    "# 将采样后的数据保存到新的 JSON 文件  \n",
    "with open(output_file, 'w') as f:  \n",
    "    json.dump(sampled_data, f, indent=4)  \n",
    "  \n",
    "print(f\"Sampled data saved to {output_file}\")  "
   ]
  }
 ],
 "metadata": {
  "kernelspec": {
   "display_name": "design",
   "language": "python",
   "name": "python3"
  },
  "language_info": {
   "codemirror_mode": {
    "name": "ipython",
    "version": 3
   },
   "file_extension": ".py",
   "mimetype": "text/x-python",
   "name": "python",
   "nbconvert_exporter": "python",
   "pygments_lexer": "ipython3",
   "version": "3.10.16"
  }
 },
 "nbformat": 4,
 "nbformat_minor": 2
}
